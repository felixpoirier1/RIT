{
 "cells": [
  {
   "cell_type": "markdown",
   "metadata": {},
   "source": [
    "# Packages"
   ]
  },
  {
   "cell_type": "code",
   "execution_count": 1,
   "metadata": {},
   "outputs": [],
   "source": [
    "import requests"
   ]
  },
  {
   "cell_type": "markdown",
   "metadata": {},
   "source": [
    "# Setup"
   ]
  },
  {
   "cell_type": "code",
   "execution_count": 18,
   "metadata": {},
   "outputs": [],
   "source": [
    "API_KEY = {'X-API-Key': str(input('Enter API Key: '))}\n",
    "host = str(input('Enter Host: '))\n",
    "url = 'http://localhost:' + host + '/v1'\n",
    "\n",
    "print(f'''\n",
    "    API Key: {API_KEY[\"X-API-Key\"]}\n",
    "    Host: {host}\n",
    "    URL: {url}\n",
    "''')"
   ]
  },
  {
   "cell_type": "code",
   "execution_count": 12,
   "metadata": {},
   "outputs": [],
   "source": [
    "url"
   ]
  },
  {
   "cell_type": "code",
   "execution_count": 16,
   "metadata": {},
   "outputs": [],
   "source": [
    "ticker  = str(input('Enter Ticker: '))\n",
    "ticker = \"RTM48C\""
   ]
  },
  {
   "cell_type": "markdown",
   "metadata": {},
   "source": [
    "# API endpoint tests"
   ]
  },
  {
   "cell_type": "markdown",
   "metadata": {},
   "source": [
    "### **GET** /case"
   ]
  },
  {
   "cell_type": "code",
   "execution_count": 17,
   "metadata": {},
   "outputs": [
    {
     "ename": "SSLError",
     "evalue": "HTTPSConnectionPool(host='localhost', port=9999): Max retries exceeded with url: /v1/case (Caused by SSLError(SSLError(1, '[SSL: WRONG_VERSION_NUMBER] wrong version number (_ssl.c:997)')))",
     "output_type": "error",
     "traceback": [
      "\u001b[1;31m---------------------------------------------------------------------------\u001b[0m",
      "\u001b[1;31mSSLError\u001b[0m                                  Traceback (most recent call last)",
      "File \u001b[1;32mc:\\Users\\pc\\AppData\\Local\\Programs\\Python\\Python310\\lib\\site-packages\\urllib3\\connectionpool.py:703\u001b[0m, in \u001b[0;36mHTTPConnectionPool.urlopen\u001b[1;34m(self, method, url, body, headers, retries, redirect, assert_same_host, timeout, pool_timeout, release_conn, chunked, body_pos, **response_kw)\u001b[0m\n\u001b[0;32m    702\u001b[0m \u001b[39m# Make the request on the httplib connection object.\u001b[39;00m\n\u001b[1;32m--> 703\u001b[0m httplib_response \u001b[39m=\u001b[39m \u001b[39mself\u001b[39;49m\u001b[39m.\u001b[39;49m_make_request(\n\u001b[0;32m    704\u001b[0m     conn,\n\u001b[0;32m    705\u001b[0m     method,\n\u001b[0;32m    706\u001b[0m     url,\n\u001b[0;32m    707\u001b[0m     timeout\u001b[39m=\u001b[39;49mtimeout_obj,\n\u001b[0;32m    708\u001b[0m     body\u001b[39m=\u001b[39;49mbody,\n\u001b[0;32m    709\u001b[0m     headers\u001b[39m=\u001b[39;49mheaders,\n\u001b[0;32m    710\u001b[0m     chunked\u001b[39m=\u001b[39;49mchunked,\n\u001b[0;32m    711\u001b[0m )\n\u001b[0;32m    713\u001b[0m \u001b[39m# If we're going to release the connection in ``finally:``, then\u001b[39;00m\n\u001b[0;32m    714\u001b[0m \u001b[39m# the response doesn't need to know about the connection. Otherwise\u001b[39;00m\n\u001b[0;32m    715\u001b[0m \u001b[39m# it will also try to release it and we'll have a double-release\u001b[39;00m\n\u001b[0;32m    716\u001b[0m \u001b[39m# mess.\u001b[39;00m\n",
      "File \u001b[1;32mc:\\Users\\pc\\AppData\\Local\\Programs\\Python\\Python310\\lib\\site-packages\\urllib3\\connectionpool.py:386\u001b[0m, in \u001b[0;36mHTTPConnectionPool._make_request\u001b[1;34m(self, conn, method, url, timeout, chunked, **httplib_request_kw)\u001b[0m\n\u001b[0;32m    385\u001b[0m \u001b[39mtry\u001b[39;00m:\n\u001b[1;32m--> 386\u001b[0m     \u001b[39mself\u001b[39;49m\u001b[39m.\u001b[39;49m_validate_conn(conn)\n\u001b[0;32m    387\u001b[0m \u001b[39mexcept\u001b[39;00m (SocketTimeout, BaseSSLError) \u001b[39mas\u001b[39;00m e:\n\u001b[0;32m    388\u001b[0m     \u001b[39m# Py2 raises this as a BaseSSLError, Py3 raises it as socket timeout.\u001b[39;00m\n",
      "File \u001b[1;32mc:\\Users\\pc\\AppData\\Local\\Programs\\Python\\Python310\\lib\\site-packages\\urllib3\\connectionpool.py:1042\u001b[0m, in \u001b[0;36mHTTPSConnectionPool._validate_conn\u001b[1;34m(self, conn)\u001b[0m\n\u001b[0;32m   1041\u001b[0m \u001b[39mif\u001b[39;00m \u001b[39mnot\u001b[39;00m \u001b[39mgetattr\u001b[39m(conn, \u001b[39m\"\u001b[39m\u001b[39msock\u001b[39m\u001b[39m\"\u001b[39m, \u001b[39mNone\u001b[39;00m):  \u001b[39m# AppEngine might not have  `.sock`\u001b[39;00m\n\u001b[1;32m-> 1042\u001b[0m     conn\u001b[39m.\u001b[39;49mconnect()\n\u001b[0;32m   1044\u001b[0m \u001b[39mif\u001b[39;00m \u001b[39mnot\u001b[39;00m conn\u001b[39m.\u001b[39mis_verified:\n",
      "File \u001b[1;32mc:\\Users\\pc\\AppData\\Local\\Programs\\Python\\Python310\\lib\\site-packages\\urllib3\\connection.py:414\u001b[0m, in \u001b[0;36mHTTPSConnection.connect\u001b[1;34m(self)\u001b[0m\n\u001b[0;32m    412\u001b[0m     context\u001b[39m.\u001b[39mload_default_certs()\n\u001b[1;32m--> 414\u001b[0m \u001b[39mself\u001b[39m\u001b[39m.\u001b[39msock \u001b[39m=\u001b[39m ssl_wrap_socket(\n\u001b[0;32m    415\u001b[0m     sock\u001b[39m=\u001b[39;49mconn,\n\u001b[0;32m    416\u001b[0m     keyfile\u001b[39m=\u001b[39;49m\u001b[39mself\u001b[39;49m\u001b[39m.\u001b[39;49mkey_file,\n\u001b[0;32m    417\u001b[0m     certfile\u001b[39m=\u001b[39;49m\u001b[39mself\u001b[39;49m\u001b[39m.\u001b[39;49mcert_file,\n\u001b[0;32m    418\u001b[0m     key_password\u001b[39m=\u001b[39;49m\u001b[39mself\u001b[39;49m\u001b[39m.\u001b[39;49mkey_password,\n\u001b[0;32m    419\u001b[0m     ca_certs\u001b[39m=\u001b[39;49m\u001b[39mself\u001b[39;49m\u001b[39m.\u001b[39;49mca_certs,\n\u001b[0;32m    420\u001b[0m     ca_cert_dir\u001b[39m=\u001b[39;49m\u001b[39mself\u001b[39;49m\u001b[39m.\u001b[39;49mca_cert_dir,\n\u001b[0;32m    421\u001b[0m     ca_cert_data\u001b[39m=\u001b[39;49m\u001b[39mself\u001b[39;49m\u001b[39m.\u001b[39;49mca_cert_data,\n\u001b[0;32m    422\u001b[0m     server_hostname\u001b[39m=\u001b[39;49mserver_hostname,\n\u001b[0;32m    423\u001b[0m     ssl_context\u001b[39m=\u001b[39;49mcontext,\n\u001b[0;32m    424\u001b[0m     tls_in_tls\u001b[39m=\u001b[39;49mtls_in_tls,\n\u001b[0;32m    425\u001b[0m )\n\u001b[0;32m    427\u001b[0m \u001b[39m# If we're using all defaults and the connection\u001b[39;00m\n\u001b[0;32m    428\u001b[0m \u001b[39m# is TLSv1 or TLSv1.1 we throw a DeprecationWarning\u001b[39;00m\n\u001b[0;32m    429\u001b[0m \u001b[39m# for the host.\u001b[39;00m\n",
      "File \u001b[1;32mc:\\Users\\pc\\AppData\\Local\\Programs\\Python\\Python310\\lib\\site-packages\\urllib3\\util\\ssl_.py:449\u001b[0m, in \u001b[0;36mssl_wrap_socket\u001b[1;34m(sock, keyfile, certfile, cert_reqs, ca_certs, server_hostname, ssl_version, ciphers, ssl_context, ca_cert_dir, key_password, ca_cert_data, tls_in_tls)\u001b[0m\n\u001b[0;32m    448\u001b[0m \u001b[39mif\u001b[39;00m send_sni:\n\u001b[1;32m--> 449\u001b[0m     ssl_sock \u001b[39m=\u001b[39m _ssl_wrap_socket_impl(\n\u001b[0;32m    450\u001b[0m         sock, context, tls_in_tls, server_hostname\u001b[39m=\u001b[39;49mserver_hostname\n\u001b[0;32m    451\u001b[0m     )\n\u001b[0;32m    452\u001b[0m \u001b[39melse\u001b[39;00m:\n",
      "File \u001b[1;32mc:\\Users\\pc\\AppData\\Local\\Programs\\Python\\Python310\\lib\\site-packages\\urllib3\\util\\ssl_.py:493\u001b[0m, in \u001b[0;36m_ssl_wrap_socket_impl\u001b[1;34m(sock, ssl_context, tls_in_tls, server_hostname)\u001b[0m\n\u001b[0;32m    492\u001b[0m \u001b[39mif\u001b[39;00m server_hostname:\n\u001b[1;32m--> 493\u001b[0m     \u001b[39mreturn\u001b[39;00m ssl_context\u001b[39m.\u001b[39;49mwrap_socket(sock, server_hostname\u001b[39m=\u001b[39;49mserver_hostname)\n\u001b[0;32m    494\u001b[0m \u001b[39melse\u001b[39;00m:\n",
      "File \u001b[1;32mc:\\Users\\pc\\AppData\\Local\\Programs\\Python\\Python310\\lib\\ssl.py:513\u001b[0m, in \u001b[0;36mSSLContext.wrap_socket\u001b[1;34m(self, sock, server_side, do_handshake_on_connect, suppress_ragged_eofs, server_hostname, session)\u001b[0m\n\u001b[0;32m    507\u001b[0m \u001b[39mdef\u001b[39;00m \u001b[39mwrap_socket\u001b[39m(\u001b[39mself\u001b[39m, sock, server_side\u001b[39m=\u001b[39m\u001b[39mFalse\u001b[39;00m,\n\u001b[0;32m    508\u001b[0m                 do_handshake_on_connect\u001b[39m=\u001b[39m\u001b[39mTrue\u001b[39;00m,\n\u001b[0;32m    509\u001b[0m                 suppress_ragged_eofs\u001b[39m=\u001b[39m\u001b[39mTrue\u001b[39;00m,\n\u001b[0;32m    510\u001b[0m                 server_hostname\u001b[39m=\u001b[39m\u001b[39mNone\u001b[39;00m, session\u001b[39m=\u001b[39m\u001b[39mNone\u001b[39;00m):\n\u001b[0;32m    511\u001b[0m     \u001b[39m# SSLSocket class handles server_hostname encoding before it calls\u001b[39;00m\n\u001b[0;32m    512\u001b[0m     \u001b[39m# ctx._wrap_socket()\u001b[39;00m\n\u001b[1;32m--> 513\u001b[0m     \u001b[39mreturn\u001b[39;00m \u001b[39mself\u001b[39;49m\u001b[39m.\u001b[39;49msslsocket_class\u001b[39m.\u001b[39;49m_create(\n\u001b[0;32m    514\u001b[0m         sock\u001b[39m=\u001b[39;49msock,\n\u001b[0;32m    515\u001b[0m         server_side\u001b[39m=\u001b[39;49mserver_side,\n\u001b[0;32m    516\u001b[0m         do_handshake_on_connect\u001b[39m=\u001b[39;49mdo_handshake_on_connect,\n\u001b[0;32m    517\u001b[0m         suppress_ragged_eofs\u001b[39m=\u001b[39;49msuppress_ragged_eofs,\n\u001b[0;32m    518\u001b[0m         server_hostname\u001b[39m=\u001b[39;49mserver_hostname,\n\u001b[0;32m    519\u001b[0m         context\u001b[39m=\u001b[39;49m\u001b[39mself\u001b[39;49m,\n\u001b[0;32m    520\u001b[0m         session\u001b[39m=\u001b[39;49msession\n\u001b[0;32m    521\u001b[0m     )\n",
      "File \u001b[1;32mc:\\Users\\pc\\AppData\\Local\\Programs\\Python\\Python310\\lib\\ssl.py:1071\u001b[0m, in \u001b[0;36mSSLSocket._create\u001b[1;34m(cls, sock, server_side, do_handshake_on_connect, suppress_ragged_eofs, server_hostname, context, session)\u001b[0m\n\u001b[0;32m   1070\u001b[0m             \u001b[39mraise\u001b[39;00m \u001b[39mValueError\u001b[39;00m(\u001b[39m\"\u001b[39m\u001b[39mdo_handshake_on_connect should not be specified for non-blocking sockets\u001b[39m\u001b[39m\"\u001b[39m)\n\u001b[1;32m-> 1071\u001b[0m         \u001b[39mself\u001b[39;49m\u001b[39m.\u001b[39;49mdo_handshake()\n\u001b[0;32m   1072\u001b[0m \u001b[39mexcept\u001b[39;00m (\u001b[39mOSError\u001b[39;00m, \u001b[39mValueError\u001b[39;00m):\n",
      "File \u001b[1;32mc:\\Users\\pc\\AppData\\Local\\Programs\\Python\\Python310\\lib\\ssl.py:1342\u001b[0m, in \u001b[0;36mSSLSocket.do_handshake\u001b[1;34m(self, block)\u001b[0m\n\u001b[0;32m   1341\u001b[0m         \u001b[39mself\u001b[39m\u001b[39m.\u001b[39msettimeout(\u001b[39mNone\u001b[39;00m)\n\u001b[1;32m-> 1342\u001b[0m     \u001b[39mself\u001b[39;49m\u001b[39m.\u001b[39;49m_sslobj\u001b[39m.\u001b[39;49mdo_handshake()\n\u001b[0;32m   1343\u001b[0m \u001b[39mfinally\u001b[39;00m:\n",
      "\u001b[1;31mSSLError\u001b[0m: [SSL: WRONG_VERSION_NUMBER] wrong version number (_ssl.c:997)",
      "\nDuring handling of the above exception, another exception occurred:\n",
      "\u001b[1;31mMaxRetryError\u001b[0m                             Traceback (most recent call last)",
      "File \u001b[1;32mc:\\Users\\pc\\AppData\\Local\\Programs\\Python\\Python310\\lib\\site-packages\\requests\\adapters.py:489\u001b[0m, in \u001b[0;36mHTTPAdapter.send\u001b[1;34m(self, request, stream, timeout, verify, cert, proxies)\u001b[0m\n\u001b[0;32m    488\u001b[0m \u001b[39mif\u001b[39;00m \u001b[39mnot\u001b[39;00m chunked:\n\u001b[1;32m--> 489\u001b[0m     resp \u001b[39m=\u001b[39m conn\u001b[39m.\u001b[39;49murlopen(\n\u001b[0;32m    490\u001b[0m         method\u001b[39m=\u001b[39;49mrequest\u001b[39m.\u001b[39;49mmethod,\n\u001b[0;32m    491\u001b[0m         url\u001b[39m=\u001b[39;49murl,\n\u001b[0;32m    492\u001b[0m         body\u001b[39m=\u001b[39;49mrequest\u001b[39m.\u001b[39;49mbody,\n\u001b[0;32m    493\u001b[0m         headers\u001b[39m=\u001b[39;49mrequest\u001b[39m.\u001b[39;49mheaders,\n\u001b[0;32m    494\u001b[0m         redirect\u001b[39m=\u001b[39;49m\u001b[39mFalse\u001b[39;49;00m,\n\u001b[0;32m    495\u001b[0m         assert_same_host\u001b[39m=\u001b[39;49m\u001b[39mFalse\u001b[39;49;00m,\n\u001b[0;32m    496\u001b[0m         preload_content\u001b[39m=\u001b[39;49m\u001b[39mFalse\u001b[39;49;00m,\n\u001b[0;32m    497\u001b[0m         decode_content\u001b[39m=\u001b[39;49m\u001b[39mFalse\u001b[39;49;00m,\n\u001b[0;32m    498\u001b[0m         retries\u001b[39m=\u001b[39;49m\u001b[39mself\u001b[39;49m\u001b[39m.\u001b[39;49mmax_retries,\n\u001b[0;32m    499\u001b[0m         timeout\u001b[39m=\u001b[39;49mtimeout,\n\u001b[0;32m    500\u001b[0m     )\n\u001b[0;32m    502\u001b[0m \u001b[39m# Send the request.\u001b[39;00m\n\u001b[0;32m    503\u001b[0m \u001b[39melse\u001b[39;00m:\n",
      "File \u001b[1;32mc:\\Users\\pc\\AppData\\Local\\Programs\\Python\\Python310\\lib\\site-packages\\urllib3\\connectionpool.py:787\u001b[0m, in \u001b[0;36mHTTPConnectionPool.urlopen\u001b[1;34m(self, method, url, body, headers, retries, redirect, assert_same_host, timeout, pool_timeout, release_conn, chunked, body_pos, **response_kw)\u001b[0m\n\u001b[0;32m    785\u001b[0m     e \u001b[39m=\u001b[39m ProtocolError(\u001b[39m\"\u001b[39m\u001b[39mConnection aborted.\u001b[39m\u001b[39m\"\u001b[39m, e)\n\u001b[1;32m--> 787\u001b[0m retries \u001b[39m=\u001b[39m retries\u001b[39m.\u001b[39;49mincrement(\n\u001b[0;32m    788\u001b[0m     method, url, error\u001b[39m=\u001b[39;49me, _pool\u001b[39m=\u001b[39;49m\u001b[39mself\u001b[39;49m, _stacktrace\u001b[39m=\u001b[39;49msys\u001b[39m.\u001b[39;49mexc_info()[\u001b[39m2\u001b[39;49m]\n\u001b[0;32m    789\u001b[0m )\n\u001b[0;32m    790\u001b[0m retries\u001b[39m.\u001b[39msleep()\n",
      "File \u001b[1;32mc:\\Users\\pc\\AppData\\Local\\Programs\\Python\\Python310\\lib\\site-packages\\urllib3\\util\\retry.py:592\u001b[0m, in \u001b[0;36mRetry.increment\u001b[1;34m(self, method, url, response, error, _pool, _stacktrace)\u001b[0m\n\u001b[0;32m    591\u001b[0m \u001b[39mif\u001b[39;00m new_retry\u001b[39m.\u001b[39mis_exhausted():\n\u001b[1;32m--> 592\u001b[0m     \u001b[39mraise\u001b[39;00m MaxRetryError(_pool, url, error \u001b[39mor\u001b[39;00m ResponseError(cause))\n\u001b[0;32m    594\u001b[0m log\u001b[39m.\u001b[39mdebug(\u001b[39m\"\u001b[39m\u001b[39mIncremented Retry for (url=\u001b[39m\u001b[39m'\u001b[39m\u001b[39m%s\u001b[39;00m\u001b[39m'\u001b[39m\u001b[39m): \u001b[39m\u001b[39m%r\u001b[39;00m\u001b[39m\"\u001b[39m, url, new_retry)\n",
      "\u001b[1;31mMaxRetryError\u001b[0m: HTTPSConnectionPool(host='localhost', port=9999): Max retries exceeded with url: /v1/case (Caused by SSLError(SSLError(1, '[SSL: WRONG_VERSION_NUMBER] wrong version number (_ssl.c:997)')))",
      "\nDuring handling of the above exception, another exception occurred:\n",
      "\u001b[1;31mSSLError\u001b[0m                                  Traceback (most recent call last)",
      "Cell \u001b[1;32mIn [17], line 1\u001b[0m\n\u001b[1;32m----> 1\u001b[0m case \u001b[39m=\u001b[39m requests\u001b[39m.\u001b[39mget(url \u001b[39m+\u001b[39m \u001b[39m'\u001b[39m\u001b[39m/case\u001b[39m\u001b[39m'\u001b[39m, headers\u001b[39m=\u001b[39mAPI_KEY)\n\u001b[0;32m      2\u001b[0m \u001b[39mprint\u001b[39m(case\u001b[39m.\u001b[39mjson())\n\u001b[0;32m      4\u001b[0m \u001b[39mwith\u001b[39;00m \u001b[39mopen\u001b[39m(\u001b[39m'\u001b[39m\u001b[39mresponses/GETcase.json\u001b[39m\u001b[39m'\u001b[39m, \u001b[39m'\u001b[39m\u001b[39mw\u001b[39m\u001b[39m'\u001b[39m) \u001b[39mas\u001b[39;00m f:\n",
      "File \u001b[1;32mc:\\Users\\pc\\AppData\\Local\\Programs\\Python\\Python310\\lib\\site-packages\\requests\\api.py:73\u001b[0m, in \u001b[0;36mget\u001b[1;34m(url, params, **kwargs)\u001b[0m\n\u001b[0;32m     62\u001b[0m \u001b[39mdef\u001b[39;00m \u001b[39mget\u001b[39m(url, params\u001b[39m=\u001b[39m\u001b[39mNone\u001b[39;00m, \u001b[39m*\u001b[39m\u001b[39m*\u001b[39mkwargs):\n\u001b[0;32m     63\u001b[0m     \u001b[39mr\u001b[39m\u001b[39m\"\"\"Sends a GET request.\u001b[39;00m\n\u001b[0;32m     64\u001b[0m \n\u001b[0;32m     65\u001b[0m \u001b[39m    :param url: URL for the new :class:`Request` object.\u001b[39;00m\n\u001b[1;32m   (...)\u001b[0m\n\u001b[0;32m     70\u001b[0m \u001b[39m    :rtype: requests.Response\u001b[39;00m\n\u001b[0;32m     71\u001b[0m \u001b[39m    \"\"\"\u001b[39;00m\n\u001b[1;32m---> 73\u001b[0m     \u001b[39mreturn\u001b[39;00m request(\u001b[39m\"\u001b[39m\u001b[39mget\u001b[39m\u001b[39m\"\u001b[39m, url, params\u001b[39m=\u001b[39mparams, \u001b[39m*\u001b[39m\u001b[39m*\u001b[39mkwargs)\n",
      "File \u001b[1;32mc:\\Users\\pc\\AppData\\Local\\Programs\\Python\\Python310\\lib\\site-packages\\requests\\api.py:59\u001b[0m, in \u001b[0;36mrequest\u001b[1;34m(method, url, **kwargs)\u001b[0m\n\u001b[0;32m     55\u001b[0m \u001b[39m# By using the 'with' statement we are sure the session is closed, thus we\u001b[39;00m\n\u001b[0;32m     56\u001b[0m \u001b[39m# avoid leaving sockets open which can trigger a ResourceWarning in some\u001b[39;00m\n\u001b[0;32m     57\u001b[0m \u001b[39m# cases, and look like a memory leak in others.\u001b[39;00m\n\u001b[0;32m     58\u001b[0m \u001b[39mwith\u001b[39;00m sessions\u001b[39m.\u001b[39mSession() \u001b[39mas\u001b[39;00m session:\n\u001b[1;32m---> 59\u001b[0m     \u001b[39mreturn\u001b[39;00m session\u001b[39m.\u001b[39mrequest(method\u001b[39m=\u001b[39mmethod, url\u001b[39m=\u001b[39murl, \u001b[39m*\u001b[39m\u001b[39m*\u001b[39mkwargs)\n",
      "File \u001b[1;32mc:\\Users\\pc\\AppData\\Local\\Programs\\Python\\Python310\\lib\\site-packages\\requests\\sessions.py:587\u001b[0m, in \u001b[0;36mSession.request\u001b[1;34m(self, method, url, params, data, headers, cookies, files, auth, timeout, allow_redirects, proxies, hooks, stream, verify, cert, json)\u001b[0m\n\u001b[0;32m    582\u001b[0m send_kwargs \u001b[39m=\u001b[39m {\n\u001b[0;32m    583\u001b[0m     \u001b[39m\"\u001b[39m\u001b[39mtimeout\u001b[39m\u001b[39m\"\u001b[39m: timeout,\n\u001b[0;32m    584\u001b[0m     \u001b[39m\"\u001b[39m\u001b[39mallow_redirects\u001b[39m\u001b[39m\"\u001b[39m: allow_redirects,\n\u001b[0;32m    585\u001b[0m }\n\u001b[0;32m    586\u001b[0m send_kwargs\u001b[39m.\u001b[39mupdate(settings)\n\u001b[1;32m--> 587\u001b[0m resp \u001b[39m=\u001b[39m \u001b[39mself\u001b[39m\u001b[39m.\u001b[39msend(prep, \u001b[39m*\u001b[39m\u001b[39m*\u001b[39msend_kwargs)\n\u001b[0;32m    589\u001b[0m \u001b[39mreturn\u001b[39;00m resp\n",
      "File \u001b[1;32mc:\\Users\\pc\\AppData\\Local\\Programs\\Python\\Python310\\lib\\site-packages\\requests\\sessions.py:701\u001b[0m, in \u001b[0;36mSession.send\u001b[1;34m(self, request, **kwargs)\u001b[0m\n\u001b[0;32m    698\u001b[0m start \u001b[39m=\u001b[39m preferred_clock()\n\u001b[0;32m    700\u001b[0m \u001b[39m# Send the request\u001b[39;00m\n\u001b[1;32m--> 701\u001b[0m r \u001b[39m=\u001b[39m adapter\u001b[39m.\u001b[39msend(request, \u001b[39m*\u001b[39m\u001b[39m*\u001b[39mkwargs)\n\u001b[0;32m    703\u001b[0m \u001b[39m# Total elapsed time of the request (approximately)\u001b[39;00m\n\u001b[0;32m    704\u001b[0m elapsed \u001b[39m=\u001b[39m preferred_clock() \u001b[39m-\u001b[39m start\n",
      "File \u001b[1;32mc:\\Users\\pc\\AppData\\Local\\Programs\\Python\\Python310\\lib\\site-packages\\requests\\adapters.py:563\u001b[0m, in \u001b[0;36mHTTPAdapter.send\u001b[1;34m(self, request, stream, timeout, verify, cert, proxies)\u001b[0m\n\u001b[0;32m    559\u001b[0m         \u001b[39mraise\u001b[39;00m ProxyError(e, request\u001b[39m=\u001b[39mrequest)\n\u001b[0;32m    561\u001b[0m     \u001b[39mif\u001b[39;00m \u001b[39misinstance\u001b[39m(e\u001b[39m.\u001b[39mreason, _SSLError):\n\u001b[0;32m    562\u001b[0m         \u001b[39m# This branch is for urllib3 v1.22 and later.\u001b[39;00m\n\u001b[1;32m--> 563\u001b[0m         \u001b[39mraise\u001b[39;00m SSLError(e, request\u001b[39m=\u001b[39mrequest)\n\u001b[0;32m    565\u001b[0m     \u001b[39mraise\u001b[39;00m \u001b[39mConnectionError\u001b[39;00m(e, request\u001b[39m=\u001b[39mrequest)\n\u001b[0;32m    567\u001b[0m \u001b[39mexcept\u001b[39;00m ClosedPoolError \u001b[39mas\u001b[39;00m e:\n",
      "\u001b[1;31mSSLError\u001b[0m: HTTPSConnectionPool(host='localhost', port=9999): Max retries exceeded with url: /v1/case (Caused by SSLError(SSLError(1, '[SSL: WRONG_VERSION_NUMBER] wrong version number (_ssl.c:997)')))"
     ]
    }
   ],
   "source": [
    "case = requests.get(url + '/case', headers=API_KEY)\n",
    "print(case.json())\n",
    "\n",
    "with open('responses/GETcase.json', 'w') as f:\n",
    "    f.write(case.text)"
   ]
  },
  {
   "cell_type": "markdown",
   "metadata": {},
   "source": [
    "### **GET** /trader"
   ]
  },
  {
   "cell_type": "code",
   "execution_count": 60,
   "metadata": {},
   "outputs": [
    {
     "name": "stdout",
     "output_type": "stream",
     "text": [
      "{'trader_id': 'felix', 'first_name': '123', 'last_name': '123', 'nlv': 0.0}\n"
     ]
    }
   ],
   "source": [
    "trader = requests.get(url + '/trader', headers=API_KEY)\n",
    "print(trader.json())\n",
    "\n",
    "with open('responses/GETtrader.json', 'w') as f:\n",
    "    f.write(trader.text)"
   ]
  },
  {
   "cell_type": "markdown",
   "metadata": {},
   "source": [
    "### **GET** /limits"
   ]
  },
  {
   "cell_type": "code",
   "execution_count": 61,
   "metadata": {},
   "outputs": [
    {
     "name": "stdout",
     "output_type": "stream",
     "text": [
      "[{'name': 'Limit-ETF', 'gross': 0.0, 'net': 0.0, 'gross_limit': 50000, 'net_limit': 50000, 'gross_fine': 1.0, 'net_fine': 1.0}, {'name': 'Limit-OPT', 'gross': 0.0, 'net': 0.0, 'gross_limit': 2500, 'net_limit': 1000, 'gross_fine': 1.0, 'net_fine': 1.0}]\n"
     ]
    }
   ],
   "source": [
    "limits = requests.get(url + '/limits', headers=API_KEY)\n",
    "print(limits.json())\n",
    "\n",
    "with open('responses/GETlimits.json', 'w') as f:\n",
    "    f.write(limits.text)"
   ]
  },
  {
   "cell_type": "markdown",
   "metadata": {},
   "source": [
    "### **GET** /news"
   ]
  },
  {
   "cell_type": "code",
   "execution_count": 62,
   "metadata": {},
   "outputs": [
    {
     "name": "stdout",
     "output_type": "stream",
     "text": [
      "[{'news_id': 5, 'period': 1, 'tick': 300, 'ticker': 'Week 3', 'headline': 'Announcement 2', 'body': 'The analysts have informed you that the realized volatility of RTM for this week will be 15%'}, {'news_id': 4, 'period': 1, 'tick': 224, 'ticker': '', 'headline': 'News 2', 'body': 'The analysts have informed you that the realized volatility of RTM for next week will be between 13% ~ 18% at the start of Week 3'}, {'news_id': 3, 'period': 1, 'tick': 150, 'ticker': 'Week 2', 'headline': 'Announcement 1', 'body': 'The analysts have informed you that the realized volatility of RTM for this week will be 12%'}, {'news_id': 2, 'period': 1, 'tick': 74, 'ticker': '', 'headline': 'News 1', 'body': 'The analysts have informed you that the realized volatility of RTM for next week will be between 10% ~ 15% at the start of Week 2'}, {'news_id': 1, 'period': 1, 'tick': 0, 'ticker': 'Week 1', 'headline': 'Risk free rate and current annualized volatility of RTM', 'body': 'The current risk free rate is 0%. RTM is an ETF that mimics one of the major indices in the simulated world and its current annualized realized volatility is 16%. This simulation consists of 20 trading days.'}]\n"
     ]
    }
   ],
   "source": [
    "since = 0 # only retieve news since this date (value must be a news Id)\n",
    "limit = 30 # limit the number of news to retrieve (default is 20)\n",
    "news_head = {'since':since, 'limit':limit}\n",
    "news = requests.get(url + '/news', headers=API_KEY, params=news_head)\n",
    "print(news.json())\n",
    "\n",
    "with open('responses/GETnews.json', 'w') as f:\n",
    "    f.write(news.text)"
   ]
  },
  {
   "cell_type": "markdown",
   "metadata": {},
   "source": [
    "### **GET** /assets"
   ]
  },
  {
   "cell_type": "code",
   "execution_count": 63,
   "metadata": {},
   "outputs": [
    {
     "name": "stdout",
     "output_type": "stream",
     "text": [
      "[]\n"
     ]
    }
   ],
   "source": [
    "assets = requests.get(url + '/assets', headers=API_KEY)\n",
    "print(assets.json())\n",
    "\n",
    "with open('responses/GETassets.json', 'w') as f:\n",
    "    f.write(assets.text)"
   ]
  },
  {
   "cell_type": "markdown",
   "metadata": {},
   "source": [
    "### **GET** /assets\n",
    "\n",
    "for specific stock"
   ]
  },
  {
   "cell_type": "code",
   "execution_count": 64,
   "metadata": {},
   "outputs": [
    {
     "name": "stdout",
     "output_type": "stream",
     "text": [
      "{'code': 'NOT_FOUND', 'message': 'Requested route GET:/v1/asset was not found.'}\n"
     ]
    }
   ],
   "source": [
    "asset_head = {'ticker': ticker} # ticker of the asset\n",
    "asset = requests.get(url + '/asset', headers=API_KEY, params=asset_head)\n",
    "print(asset.json())\n",
    "\n",
    "with open('responses/GETasset.json', 'w') as f:\n",
    "    f.write(asset.text)"
   ]
  },
  {
   "cell_type": "markdown",
   "metadata": {},
   "source": [
    "### **GET** /assets/history"
   ]
  },
  {
   "cell_type": "code",
   "execution_count": 65,
   "metadata": {},
   "outputs": [
    {
     "name": "stdout",
     "output_type": "stream",
     "text": [
      "{'code': 'BAD_REQUEST', 'message': 'Invalid asset RTM48C.'}\n"
     ]
    }
   ],
   "source": [
    "# assets_history_head = {'ticker': ticker, 'period': 20, 'limit': 30} # ticker as above, period as integer, limit of data points\n",
    "assets_history_head = {'ticker': ticker} # from latest to oldest for ticker\n",
    "assetshistory = requests.get(url + '/assets/history', headers=API_KEY, params=assets_history_head)\n",
    "print(assetshistory.json())\n",
    "\n",
    "with open('responses/GETassets_history.json', 'w') as f:\n",
    "    f.write(assetshistory.text)"
   ]
  },
  {
   "cell_type": "markdown",
   "metadata": {},
   "source": [
    "### **GET** /securities"
   ]
  },
  {
   "cell_type": "code",
   "execution_count": 66,
   "metadata": {},
   "outputs": [
    {
     "name": "stdout",
     "output_type": "stream",
     "text": [
      "[{'ticker': 'RTM', 'type': 'STOCK', 'size': 1, 'position': 0.0, 'vwap': 0.0, 'nlv': 0.0, 'last': 48.57, 'bid': 48.56, 'bid_size': 100000000.0, 'ask': 48.58, 'ask_size': 100000000.0, 'volume': 0.0, 'unrealized': 0.0, 'realized': 0.0, 'currency': '', 'total_volume': 0.0, 'limits': [{'name': 'Limit-ETF', 'units': 1.0}], 'interest_rate': 0.0, 'is_tradeable': True, 'is_shortable': True, 'start_period': 1, 'stop_period': 1, 'description': 'ETF', 'unit_multiplier': 1, 'display_unit': '', 'start_price': 50.0, 'min_price': 0.0, 'max_price': 100.0, 'quoted_decimals': 2, 'trading_fee': 0.0, 'limit_order_rebate': 0.0, 'min_trade_size': 0, 'max_trade_size': 10000, 'required_tickers': None, 'underlying_tickers': None, 'bond_coupon': 0.0, 'interest_payments_per_period': 0, 'base_security': '', 'fixing_ticker': None, 'api_orders_per_second': 1, 'execution_delay_ms': 0, 'interest_rate_ticker': None, 'otc_price_range': 0.0}, {'ticker': 'RTM48C', 'type': 'OPTION', 'size': 100, 'position': 0.0, 'vwap': 0.0, 'nlv': 0.0, 'last': 0.83, 'bid': 0.82, 'bid_size': 1000000.0, 'ask': 0.84, 'ask_size': 1000000.0, 'volume': 0.0, 'unrealized': 0.0, 'realized': 0.0, 'currency': '', 'total_volume': 0.0, 'limits': [{'name': 'Limit-OPT', 'units': 1.0}], 'interest_rate': 0.0, 'is_tradeable': True, 'is_shortable': True, 'start_period': 1, 'stop_period': 1, 'description': 'Options', 'unit_multiplier': 100, 'display_unit': '', 'start_price': 2.42, 'min_price': 0.0, 'max_price': 50.0, 'quoted_decimals': 2, 'trading_fee': 0.0, 'limit_order_rebate': 0.0, 'min_trade_size': 0, 'max_trade_size': 100, 'required_tickers': None, 'underlying_tickers': None, 'bond_coupon': 0.0, 'interest_payments_per_period': 0, 'base_security': '', 'fixing_ticker': None, 'api_orders_per_second': 1, 'execution_delay_ms': 0, 'interest_rate_ticker': None, 'otc_price_range': 0.0}, {'ticker': 'RTM48P', 'type': 'OPTION', 'size': 100, 'position': 0.0, 'vwap': 0.0, 'nlv': 0.0, 'last': 0.26, 'bid': 0.25, 'bid_size': 1000000.0, 'ask': 0.27, 'ask_size': 1000000.0, 'volume': 0.0, 'unrealized': 0.0, 'realized': 0.0, 'currency': '', 'total_volume': 0.0, 'limits': [{'name': 'Limit-OPT', 'units': 1.0}], 'interest_rate': 0.0, 'is_tradeable': True, 'is_shortable': True, 'start_period': 1, 'stop_period': 1, 'description': 'Options', 'unit_multiplier': 100, 'display_unit': '', 'start_price': 0.42, 'min_price': 0.0, 'max_price': 50.0, 'quoted_decimals': 2, 'trading_fee': 0.0, 'limit_order_rebate': 0.0, 'min_trade_size': 0, 'max_trade_size': 100, 'required_tickers': None, 'underlying_tickers': None, 'bond_coupon': 0.0, 'interest_payments_per_period': 0, 'base_security': '', 'fixing_ticker': None, 'api_orders_per_second': 1, 'execution_delay_ms': 0, 'interest_rate_ticker': None, 'otc_price_range': 0.0}, {'ticker': 'RTM49C', 'type': 'OPTION', 'size': 100, 'position': 0.0, 'vwap': 0.0, 'nlv': 0.0, 'last': 0.31, 'bid': 0.3, 'bid_size': 1000000.0, 'ask': 0.32, 'ask_size': 1000000.0, 'volume': 0.0, 'unrealized': 0.0, 'realized': 0.0, 'currency': '', 'total_volume': 0.0, 'limits': [{'name': 'Limit-OPT', 'units': 1.0}], 'interest_rate': 0.0, 'is_tradeable': True, 'is_shortable': True, 'start_period': 1, 'stop_period': 1, 'description': 'Options', 'unit_multiplier': 100, 'display_unit': '', 'start_price': 1.72, 'min_price': 0.0, 'max_price': 50.0, 'quoted_decimals': 2, 'trading_fee': 0.0, 'limit_order_rebate': 0.0, 'min_trade_size': 0, 'max_trade_size': 100, 'required_tickers': None, 'underlying_tickers': None, 'bond_coupon': 0.0, 'interest_payments_per_period': 0, 'base_security': '', 'fixing_ticker': None, 'api_orders_per_second': 1, 'execution_delay_ms': 0, 'interest_rate_ticker': None, 'otc_price_range': 0.0}, {'ticker': 'RTM49P', 'type': 'OPTION', 'size': 100, 'position': 0.0, 'vwap': 0.0, 'nlv': 0.0, 'last': 0.74, 'bid': 0.73, 'bid_size': 1000000.0, 'ask': 0.75, 'ask_size': 1000000.0, 'volume': 0.0, 'unrealized': 0.0, 'realized': 0.0, 'currency': '', 'total_volume': 0.0, 'limits': [{'name': 'Limit-OPT', 'units': 1.0}], 'interest_rate': 0.0, 'is_tradeable': True, 'is_shortable': True, 'start_period': 1, 'stop_period': 1, 'description': 'Options', 'unit_multiplier': 100, 'display_unit': '', 'start_price': 0.72, 'min_price': 0.0, 'max_price': 50.0, 'quoted_decimals': 2, 'trading_fee': 0.0, 'limit_order_rebate': 0.0, 'min_trade_size': 0, 'max_trade_size': 100, 'required_tickers': None, 'underlying_tickers': None, 'bond_coupon': 0.0, 'interest_payments_per_period': 0, 'base_security': '', 'fixing_ticker': None, 'api_orders_per_second': 1, 'execution_delay_ms': 0, 'interest_rate_ticker': None, 'otc_price_range': 0.0}, {'ticker': 'RTM50C', 'type': 'OPTION', 'size': 100, 'position': 0.0, 'vwap': 0.0, 'nlv': 0.0, 'last': 0.08, 'bid': 0.07, 'bid_size': 1000000.0, 'ask': 0.09, 'ask_size': 1000000.0, 'volume': 0.0, 'unrealized': 0.0, 'realized': 0.0, 'currency': '', 'total_volume': 0.0, 'limits': [{'name': 'Limit-OPT', 'units': 1.0}], 'interest_rate': 0.0, 'is_tradeable': True, 'is_shortable': True, 'start_period': 1, 'stop_period': 1, 'description': 'Options', 'unit_multiplier': 100, 'display_unit': '', 'start_price': 1.16, 'min_price': 0.0, 'max_price': 50.0, 'quoted_decimals': 2, 'trading_fee': 0.0, 'limit_order_rebate': 0.0, 'min_trade_size': 0, 'max_trade_size': 100, 'required_tickers': None, 'underlying_tickers': None, 'bond_coupon': 0.0, 'interest_payments_per_period': 0, 'base_security': '', 'fixing_ticker': None, 'api_orders_per_second': 1, 'execution_delay_ms': 0, 'interest_rate_ticker': None, 'otc_price_range': 0.0}, {'ticker': 'RTM50P', 'type': 'OPTION', 'size': 100, 'position': 0.0, 'vwap': 0.0, 'nlv': 0.0, 'last': 1.51, 'bid': 1.5, 'bid_size': 1000000.0, 'ask': 1.52, 'ask_size': 1000000.0, 'volume': 0.0, 'unrealized': 0.0, 'realized': 0.0, 'currency': '', 'total_volume': 0.0, 'limits': [{'name': 'Limit-OPT', 'units': 1.0}], 'interest_rate': 0.0, 'is_tradeable': True, 'is_shortable': True, 'start_period': 1, 'stop_period': 1, 'description': 'Options', 'unit_multiplier': 100, 'display_unit': '', 'start_price': 1.16, 'min_price': 0.0, 'max_price': 50.0, 'quoted_decimals': 2, 'trading_fee': 0.0, 'limit_order_rebate': 0.0, 'min_trade_size': 0, 'max_trade_size': 100, 'required_tickers': None, 'underlying_tickers': None, 'bond_coupon': 0.0, 'interest_payments_per_period': 0, 'base_security': '', 'fixing_ticker': None, 'api_orders_per_second': 1, 'execution_delay_ms': 0, 'interest_rate_ticker': None, 'otc_price_range': 0.0}, {'ticker': 'RTM51C', 'type': 'OPTION', 'size': 100, 'position': 0.0, 'vwap': 0.0, 'nlv': 0.0, 'last': 0.02, 'bid': 0.01, 'bid_size': 1000000.0, 'ask': 0.03, 'ask_size': 1000000.0, 'volume': 0.0, 'unrealized': 0.0, 'realized': 0.0, 'currency': '', 'total_volume': 0.0, 'limits': [{'name': 'Limit-OPT', 'units': 1.0}], 'interest_rate': 0.0, 'is_tradeable': True, 'is_shortable': True, 'start_period': 1, 'stop_period': 1, 'description': 'Options', 'unit_multiplier': 100, 'display_unit': '', 'start_price': 0.74, 'min_price': 0.0, 'max_price': 50.0, 'quoted_decimals': 2, 'trading_fee': 0.0, 'limit_order_rebate': 0.0, 'min_trade_size': 0, 'max_trade_size': 100, 'required_tickers': None, 'underlying_tickers': None, 'bond_coupon': 0.0, 'interest_payments_per_period': 0, 'base_security': '', 'fixing_ticker': None, 'api_orders_per_second': 1, 'execution_delay_ms': 0, 'interest_rate_ticker': None, 'otc_price_range': 0.0}, {'ticker': 'RTM51P', 'type': 'OPTION', 'size': 100, 'position': 0.0, 'vwap': 0.0, 'nlv': 0.0, 'last': 2.45, 'bid': 2.44, 'bid_size': 1000000.0, 'ask': 2.46, 'ask_size': 1000000.0, 'volume': 0.0, 'unrealized': 0.0, 'realized': 0.0, 'currency': '', 'total_volume': 0.0, 'limits': [{'name': 'Limit-OPT', 'units': 1.0}], 'interest_rate': 0.0, 'is_tradeable': True, 'is_shortable': True, 'start_period': 1, 'stop_period': 1, 'description': 'Options', 'unit_multiplier': 100, 'display_unit': '', 'start_price': 1.74, 'min_price': 0.0, 'max_price': 50.0, 'quoted_decimals': 2, 'trading_fee': 0.0, 'limit_order_rebate': 0.0, 'min_trade_size': 0, 'max_trade_size': 100, 'required_tickers': None, 'underlying_tickers': None, 'bond_coupon': 0.0, 'interest_payments_per_period': 0, 'base_security': '', 'fixing_ticker': None, 'api_orders_per_second': 1, 'execution_delay_ms': 0, 'interest_rate_ticker': None, 'otc_price_range': 0.0}, {'ticker': 'RTM52C', 'type': 'OPTION', 'size': 100, 'position': 0.0, 'vwap': 0.0, 'nlv': 0.0, 'last': 0.02, 'bid': 0.01, 'bid_size': 1000000.0, 'ask': 0.03, 'ask_size': 1000000.0, 'volume': 0.0, 'unrealized': 0.0, 'realized': 0.0, 'currency': '', 'total_volume': 0.0, 'limits': [{'name': 'Limit-OPT', 'units': 1.0}], 'interest_rate': 0.0, 'is_tradeable': True, 'is_shortable': True, 'start_period': 1, 'stop_period': 1, 'description': 'Options', 'unit_multiplier': 100, 'display_unit': '', 'start_price': 0.45, 'min_price': 0.0, 'max_price': 50.0, 'quoted_decimals': 2, 'trading_fee': 0.0, 'limit_order_rebate': 0.0, 'min_trade_size': 0, 'max_trade_size': 100, 'required_tickers': None, 'underlying_tickers': None, 'bond_coupon': 0.0, 'interest_payments_per_period': 0, 'base_security': '', 'fixing_ticker': None, 'api_orders_per_second': 1, 'execution_delay_ms': 0, 'interest_rate_ticker': None, 'otc_price_range': 0.0}, {'ticker': 'RTM52P', 'type': 'OPTION', 'size': 100, 'position': 0.0, 'vwap': 0.0, 'nlv': 0.0, 'last': 3.43, 'bid': 3.42, 'bid_size': 1000000.0, 'ask': 3.44, 'ask_size': 1000000.0, 'volume': 0.0, 'unrealized': 0.0, 'realized': 0.0, 'currency': '', 'total_volume': 0.0, 'limits': [{'name': 'Limit-OPT', 'units': 1.0}], 'interest_rate': 0.0, 'is_tradeable': True, 'is_shortable': True, 'start_period': 1, 'stop_period': 1, 'description': 'Options', 'unit_multiplier': 100, 'display_unit': '', 'start_price': 2.45, 'min_price': 0.0, 'max_price': 50.0, 'quoted_decimals': 2, 'trading_fee': 0.0, 'limit_order_rebate': 0.0, 'min_trade_size': 0, 'max_trade_size': 100, 'required_tickers': None, 'underlying_tickers': None, 'bond_coupon': 0.0, 'interest_payments_per_period': 0, 'base_security': '', 'fixing_ticker': None, 'api_orders_per_second': 1, 'execution_delay_ms': 0, 'interest_rate_ticker': None, 'otc_price_range': 0.0}]\n"
     ]
    }
   ],
   "source": [
    "# securities_head = {'ticker': ticker} # ticker of the asset\n",
    "securities = requests.get(url + '/securities', headers=API_KEY)\n",
    "print(securities.json())\n",
    "\n",
    "with open('responses/GETsecurities.json', 'w') as f:\n",
    "    f.write(securities.text)"
   ]
  },
  {
   "cell_type": "markdown",
   "metadata": {},
   "source": [
    "### **GET** /securities/book"
   ]
  },
  {
   "cell_type": "code",
   "execution_count": 67,
   "metadata": {},
   "outputs": [],
   "source": [
    "# securities_book_head = {'ticker': ticker, 'limit': 30} # ticker of the asset with limit of data points for bid and ask sides\n",
    "securities_book_head = {'ticker': ticker, 'limit': 30}\n",
    "securitiesbook = requests.get(url + '/securities/book', headers=API_KEY, params=securities_book_head)\n",
    "\n",
    "with open('responses/GETsecurities_book.json', 'w') as f:\n",
    "    f.write(securitiesbook.text)"
   ]
  },
  {
   "cell_type": "markdown",
   "metadata": {},
   "source": [
    "### **GET** /securities/history"
   ]
  },
  {
   "cell_type": "code",
   "execution_count": 68,
   "metadata": {},
   "outputs": [
    {
     "name": "stdout",
     "output_type": "stream",
     "text": [
      "[{'tick': 327, 'open': 0.89, 'high': 0.89, 'low': 0.89, 'close': 0.89}, {'tick': 326, 'open': 0.83, 'high': 0.89, 'low': 0.83, 'close': 0.89}, {'tick': 325, 'open': 0.79, 'high': 0.83, 'low': 0.79, 'close': 0.83}, {'tick': 324, 'open': 0.83, 'high': 0.83, 'low': 0.79, 'close': 0.79}, {'tick': 323, 'open': 0.85, 'high': 0.85, 'low': 0.83, 'close': 0.83}, {'tick': 322, 'open': 0.87, 'high': 0.87, 'low': 0.85, 'close': 0.85}, {'tick': 321, 'open': 0.9, 'high': 0.9, 'low': 0.87, 'close': 0.87}, {'tick': 320, 'open': 0.93, 'high': 0.93, 'low': 0.9, 'close': 0.9}, {'tick': 319, 'open': 0.92, 'high': 0.93, 'low': 0.92, 'close': 0.93}, {'tick': 318, 'open': 0.98, 'high': 0.98, 'low': 0.92, 'close': 0.92}, {'tick': 317, 'open': 1.01, 'high': 1.01, 'low': 0.98, 'close': 0.98}, {'tick': 316, 'open': 1.0, 'high': 1.01, 'low': 1.0, 'close': 1.01}, {'tick': 315, 'open': 1.07, 'high': 1.07, 'low': 1.0, 'close': 1.0}, {'tick': 314, 'open': 1.11, 'high': 1.11, 'low': 1.07, 'close': 1.07}, {'tick': 313, 'open': 1.21, 'high': 1.21, 'low': 1.11, 'close': 1.11}, {'tick': 312, 'open': 1.19, 'high': 1.21, 'low': 1.19, 'close': 1.21}, {'tick': 311, 'open': 1.36, 'high': 1.36, 'low': 1.19, 'close': 1.19}, {'tick': 310, 'open': 1.42, 'high': 1.42, 'low': 1.36, 'close': 1.36}, {'tick': 309, 'open': 1.43, 'high': 1.43, 'low': 1.42, 'close': 1.42}, {'tick': 308, 'open': 1.37, 'high': 1.43, 'low': 1.37, 'close': 1.43}, {'tick': 307, 'open': 1.44, 'high': 1.44, 'low': 1.37, 'close': 1.37}, {'tick': 306, 'open': 1.49, 'high': 1.49, 'low': 1.44, 'close': 1.44}, {'tick': 305, 'open': 1.57, 'high': 1.57, 'low': 1.49, 'close': 1.49}, {'tick': 304, 'open': 1.69, 'high': 1.69, 'low': 1.57, 'close': 1.57}, {'tick': 303, 'open': 1.71, 'high': 1.71, 'low': 1.69, 'close': 1.69}, {'tick': 302, 'open': 1.73, 'high': 1.73, 'low': 1.71, 'close': 1.71}, {'tick': 301, 'open': 1.66, 'high': 1.73, 'low': 1.66, 'close': 1.73}, {'tick': 300, 'open': 1.8, 'high': 1.8, 'low': 1.66, 'close': 1.66}, {'tick': 299, 'open': 1.86, 'high': 1.86, 'low': 1.8, 'close': 1.8}, {'tick': 298, 'open': 1.84, 'high': 1.86, 'low': 1.84, 'close': 1.86}, {'tick': 297, 'open': 1.7, 'high': 1.84, 'low': 1.7, 'close': 1.84}, {'tick': 296, 'open': 1.76, 'high': 1.76, 'low': 1.7, 'close': 1.7}, {'tick': 295, 'open': 1.8, 'high': 1.8, 'low': 1.76, 'close': 1.76}, {'tick': 294, 'open': 1.78, 'high': 1.8, 'low': 1.78, 'close': 1.8}, {'tick': 293, 'open': 1.81, 'high': 1.81, 'low': 1.78, 'close': 1.78}, {'tick': 292, 'open': 1.82, 'high': 1.82, 'low': 1.81, 'close': 1.81}, {'tick': 291, 'open': 1.75, 'high': 1.82, 'low': 1.75, 'close': 1.82}, {'tick': 290, 'open': 1.82, 'high': 1.82, 'low': 1.75, 'close': 1.75}, {'tick': 289, 'open': 1.81, 'high': 1.82, 'low': 1.81, 'close': 1.82}, {'tick': 288, 'open': 1.8, 'high': 1.81, 'low': 1.8, 'close': 1.81}, {'tick': 287, 'open': 1.74, 'high': 1.8, 'low': 1.74, 'close': 1.8}, {'tick': 286, 'open': 1.61, 'high': 1.74, 'low': 1.61, 'close': 1.74}, {'tick': 285, 'open': 1.58, 'high': 1.61, 'low': 1.58, 'close': 1.61}, {'tick': 284, 'open': 1.6, 'high': 1.6, 'low': 1.58, 'close': 1.58}, {'tick': 283, 'open': 1.66, 'high': 1.66, 'low': 1.6, 'close': 1.6}, {'tick': 282, 'open': 1.75, 'high': 1.75, 'low': 1.66, 'close': 1.66}, {'tick': 281, 'open': 1.73, 'high': 1.75, 'low': 1.73, 'close': 1.75}, {'tick': 280, 'open': 1.82, 'high': 1.82, 'low': 1.73, 'close': 1.73}, {'tick': 279, 'open': 1.78, 'high': 1.82, 'low': 1.78, 'close': 1.82}, {'tick': 278, 'open': 1.74, 'high': 1.78, 'low': 1.74, 'close': 1.78}, {'tick': 277, 'open': 1.73, 'high': 1.74, 'low': 1.73, 'close': 1.74}, {'tick': 276, 'open': 1.68, 'high': 1.73, 'low': 1.68, 'close': 1.73}, {'tick': 275, 'open': 1.69, 'high': 1.69, 'low': 1.68, 'close': 1.68}, {'tick': 274, 'open': 1.69, 'high': 1.69, 'low': 1.69, 'close': 1.69}, {'tick': 273, 'open': 1.62, 'high': 1.69, 'low': 1.62, 'close': 1.69}, {'tick': 272, 'open': 1.61, 'high': 1.62, 'low': 1.61, 'close': 1.62}, {'tick': 271, 'open': 1.53, 'high': 1.61, 'low': 1.53, 'close': 1.61}, {'tick': 270, 'open': 1.47, 'high': 1.53, 'low': 1.47, 'close': 1.53}, {'tick': 269, 'open': 1.5, 'high': 1.5, 'low': 1.47, 'close': 1.47}, {'tick': 268, 'open': 1.59, 'high': 1.59, 'low': 1.5, 'close': 1.5}, {'tick': 267, 'open': 1.57, 'high': 1.59, 'low': 1.57, 'close': 1.59}, {'tick': 266, 'open': 1.63, 'high': 1.63, 'low': 1.57, 'close': 1.57}, {'tick': 265, 'open': 1.76, 'high': 1.76, 'low': 1.63, 'close': 1.63}, {'tick': 264, 'open': 1.79, 'high': 1.79, 'low': 1.76, 'close': 1.76}, {'tick': 263, 'open': 1.83, 'high': 1.83, 'low': 1.79, 'close': 1.79}, {'tick': 262, 'open': 1.89, 'high': 1.89, 'low': 1.83, 'close': 1.83}, {'tick': 261, 'open': 1.93, 'high': 1.93, 'low': 1.89, 'close': 1.89}, {'tick': 260, 'open': 1.91, 'high': 1.93, 'low': 1.91, 'close': 1.93}, {'tick': 259, 'open': 1.83, 'high': 1.91, 'low': 1.83, 'close': 1.91}, {'tick': 258, 'open': 1.76, 'high': 1.83, 'low': 1.76, 'close': 1.83}, {'tick': 257, 'open': 1.74, 'high': 1.76, 'low': 1.74, 'close': 1.76}, {'tick': 256, 'open': 1.69, 'high': 1.74, 'low': 1.69, 'close': 1.74}, {'tick': 255, 'open': 1.68, 'high': 1.69, 'low': 1.68, 'close': 1.69}, {'tick': 254, 'open': 1.67, 'high': 1.68, 'low': 1.67, 'close': 1.68}, {'tick': 253, 'open': 1.68, 'high': 1.68, 'low': 1.67, 'close': 1.67}, {'tick': 252, 'open': 1.67, 'high': 1.68, 'low': 1.67, 'close': 1.68}, {'tick': 251, 'open': 1.75, 'high': 1.75, 'low': 1.67, 'close': 1.67}, {'tick': 250, 'open': 1.82, 'high': 1.82, 'low': 1.75, 'close': 1.75}, {'tick': 249, 'open': 1.84, 'high': 1.84, 'low': 1.82, 'close': 1.82}, {'tick': 248, 'open': 1.84, 'high': 1.84, 'low': 1.84, 'close': 1.84}, {'tick': 247, 'open': 1.76, 'high': 1.84, 'low': 1.76, 'close': 1.84}, {'tick': 246, 'open': 1.71, 'high': 1.76, 'low': 1.71, 'close': 1.76}, {'tick': 245, 'open': 1.72, 'high': 1.72, 'low': 1.71, 'close': 1.71}, {'tick': 244, 'open': 1.69, 'high': 1.72, 'low': 1.69, 'close': 1.72}, {'tick': 243, 'open': 1.72, 'high': 1.72, 'low': 1.69, 'close': 1.69}, {'tick': 242, 'open': 1.77, 'high': 1.77, 'low': 1.72, 'close': 1.72}, {'tick': 241, 'open': 1.71, 'high': 1.77, 'low': 1.71, 'close': 1.77}, {'tick': 240, 'open': 1.72, 'high': 1.72, 'low': 1.71, 'close': 1.71}, {'tick': 239, 'open': 1.79, 'high': 1.79, 'low': 1.72, 'close': 1.72}, {'tick': 238, 'open': 1.87, 'high': 1.87, 'low': 1.79, 'close': 1.79}, {'tick': 237, 'open': 1.92, 'high': 1.92, 'low': 1.87, 'close': 1.87}, {'tick': 236, 'open': 1.89, 'high': 1.92, 'low': 1.89, 'close': 1.92}, {'tick': 235, 'open': 2.05, 'high': 2.05, 'low': 1.89, 'close': 1.89}, {'tick': 234, 'open': 1.91, 'high': 2.05, 'low': 1.91, 'close': 2.05}, {'tick': 233, 'open': 1.93, 'high': 1.93, 'low': 1.91, 'close': 1.91}, {'tick': 232, 'open': 1.87, 'high': 1.93, 'low': 1.87, 'close': 1.93}, {'tick': 231, 'open': 1.88, 'high': 1.88, 'low': 1.87, 'close': 1.87}, {'tick': 230, 'open': 1.89, 'high': 1.89, 'low': 1.88, 'close': 1.88}, {'tick': 229, 'open': 1.85, 'high': 1.89, 'low': 1.85, 'close': 1.89}, {'tick': 228, 'open': 2.0, 'high': 2.0, 'low': 1.85, 'close': 1.85}, {'tick': 227, 'open': 2.15, 'high': 2.15, 'low': 2.0, 'close': 2.0}, {'tick': 226, 'open': 2.15, 'high': 2.15, 'low': 2.15, 'close': 2.15}, {'tick': 225, 'open': 2.08, 'high': 2.15, 'low': 2.08, 'close': 2.15}, {'tick': 224, 'open': 2.13, 'high': 2.13, 'low': 2.08, 'close': 2.08}, {'tick': 223, 'open': 2.15, 'high': 2.15, 'low': 2.13, 'close': 2.13}, {'tick': 222, 'open': 2.1, 'high': 2.15, 'low': 2.1, 'close': 2.15}, {'tick': 221, 'open': 2.17, 'high': 2.17, 'low': 2.1, 'close': 2.1}, {'tick': 220, 'open': 2.15, 'high': 2.17, 'low': 2.15, 'close': 2.17}, {'tick': 219, 'open': 2.29, 'high': 2.29, 'low': 2.15, 'close': 2.15}, {'tick': 218, 'open': 2.37, 'high': 2.37, 'low': 2.29, 'close': 2.29}, {'tick': 217, 'open': 2.35, 'high': 2.37, 'low': 2.35, 'close': 2.37}, {'tick': 216, 'open': 2.3, 'high': 2.35, 'low': 2.3, 'close': 2.35}, {'tick': 215, 'open': 2.36, 'high': 2.36, 'low': 2.3, 'close': 2.3}, {'tick': 214, 'open': 2.32, 'high': 2.36, 'low': 2.32, 'close': 2.36}, {'tick': 213, 'open': 2.35, 'high': 2.35, 'low': 2.32, 'close': 2.32}, {'tick': 212, 'open': 2.32, 'high': 2.35, 'low': 2.32, 'close': 2.35}, {'tick': 211, 'open': 2.37, 'high': 2.37, 'low': 2.32, 'close': 2.32}, {'tick': 210, 'open': 2.47, 'high': 2.47, 'low': 2.37, 'close': 2.37}, {'tick': 209, 'open': 2.57, 'high': 2.57, 'low': 2.47, 'close': 2.47}, {'tick': 208, 'open': 2.63, 'high': 2.63, 'low': 2.57, 'close': 2.57}, {'tick': 207, 'open': 2.6, 'high': 2.63, 'low': 2.6, 'close': 2.63}, {'tick': 206, 'open': 2.6, 'high': 2.6, 'low': 2.6, 'close': 2.6}, {'tick': 205, 'open': 2.51, 'high': 2.6, 'low': 2.51, 'close': 2.6}, {'tick': 204, 'open': 2.38, 'high': 2.51, 'low': 2.38, 'close': 2.51}, {'tick': 203, 'open': 2.44, 'high': 2.44, 'low': 2.38, 'close': 2.38}, {'tick': 202, 'open': 2.38, 'high': 2.44, 'low': 2.38, 'close': 2.44}, {'tick': 201, 'open': 2.43, 'high': 2.43, 'low': 2.38, 'close': 2.38}, {'tick': 200, 'open': 2.54, 'high': 2.54, 'low': 2.43, 'close': 2.43}, {'tick': 199, 'open': 2.47, 'high': 2.54, 'low': 2.47, 'close': 2.54}, {'tick': 198, 'open': 2.48, 'high': 2.48, 'low': 2.47, 'close': 2.47}, {'tick': 197, 'open': 2.44, 'high': 2.48, 'low': 2.44, 'close': 2.48}, {'tick': 196, 'open': 2.51, 'high': 2.51, 'low': 2.44, 'close': 2.44}, {'tick': 195, 'open': 2.57, 'high': 2.57, 'low': 2.51, 'close': 2.51}, {'tick': 194, 'open': 2.59, 'high': 2.59, 'low': 2.57, 'close': 2.57}, {'tick': 193, 'open': 2.65, 'high': 2.65, 'low': 2.59, 'close': 2.59}, {'tick': 192, 'open': 2.58, 'high': 2.65, 'low': 2.58, 'close': 2.65}, {'tick': 191, 'open': 2.63, 'high': 2.63, 'low': 2.58, 'close': 2.58}, {'tick': 190, 'open': 2.61, 'high': 2.63, 'low': 2.61, 'close': 2.63}, {'tick': 189, 'open': 2.71, 'high': 2.71, 'low': 2.61, 'close': 2.61}, {'tick': 188, 'open': 2.59, 'high': 2.71, 'low': 2.59, 'close': 2.71}, {'tick': 187, 'open': 2.52, 'high': 2.59, 'low': 2.52, 'close': 2.59}, {'tick': 186, 'open': 2.38, 'high': 2.52, 'low': 2.38, 'close': 2.52}, {'tick': 185, 'open': 2.44, 'high': 2.44, 'low': 2.38, 'close': 2.38}, {'tick': 184, 'open': 2.59, 'high': 2.59, 'low': 2.44, 'close': 2.44}, {'tick': 183, 'open': 2.55, 'high': 2.59, 'low': 2.55, 'close': 2.59}, {'tick': 182, 'open': 2.6, 'high': 2.6, 'low': 2.55, 'close': 2.55}, {'tick': 181, 'open': 2.43, 'high': 2.6, 'low': 2.43, 'close': 2.6}, {'tick': 180, 'open': 2.39, 'high': 2.43, 'low': 2.39, 'close': 2.43}, {'tick': 179, 'open': 2.46, 'high': 2.46, 'low': 2.39, 'close': 2.39}, {'tick': 178, 'open': 2.49, 'high': 2.49, 'low': 2.46, 'close': 2.46}, {'tick': 177, 'open': 2.53, 'high': 2.53, 'low': 2.49, 'close': 2.49}, {'tick': 176, 'open': 2.55, 'high': 2.55, 'low': 2.53, 'close': 2.53}, {'tick': 175, 'open': 2.39, 'high': 2.55, 'low': 2.39, 'close': 2.55}, {'tick': 174, 'open': 2.29, 'high': 2.39, 'low': 2.29, 'close': 2.39}, {'tick': 173, 'open': 2.21, 'high': 2.29, 'low': 2.21, 'close': 2.29}, {'tick': 172, 'open': 2.32, 'high': 2.32, 'low': 2.21, 'close': 2.21}, {'tick': 171, 'open': 2.19, 'high': 2.32, 'low': 2.19, 'close': 2.32}, {'tick': 170, 'open': 2.18, 'high': 2.19, 'low': 2.18, 'close': 2.19}, {'tick': 169, 'open': 2.08, 'high': 2.18, 'low': 2.08, 'close': 2.18}, {'tick': 168, 'open': 2.05, 'high': 2.08, 'low': 2.05, 'close': 2.08}, {'tick': 167, 'open': 2.09, 'high': 2.09, 'low': 2.05, 'close': 2.05}, {'tick': 166, 'open': 2.18, 'high': 2.18, 'low': 2.09, 'close': 2.09}, {'tick': 165, 'open': 2.16, 'high': 2.18, 'low': 2.16, 'close': 2.18}, {'tick': 164, 'open': 2.2, 'high': 2.2, 'low': 2.16, 'close': 2.16}, {'tick': 163, 'open': 2.17, 'high': 2.2, 'low': 2.17, 'close': 2.2}, {'tick': 162, 'open': 2.17, 'high': 2.17, 'low': 2.17, 'close': 2.17}, {'tick': 161, 'open': 2.14, 'high': 2.17, 'low': 2.14, 'close': 2.17}, {'tick': 160, 'open': 2.17, 'high': 2.17, 'low': 2.14, 'close': 2.14}, {'tick': 159, 'open': 2.11, 'high': 2.17, 'low': 2.11, 'close': 2.17}, {'tick': 158, 'open': 2.14, 'high': 2.14, 'low': 2.11, 'close': 2.11}, {'tick': 157, 'open': 2.18, 'high': 2.18, 'low': 2.14, 'close': 2.14}, {'tick': 156, 'open': 2.17, 'high': 2.18, 'low': 2.17, 'close': 2.18}, {'tick': 155, 'open': 2.17, 'high': 2.17, 'low': 2.17, 'close': 2.17}, {'tick': 154, 'open': 2.24, 'high': 2.24, 'low': 2.17, 'close': 2.17}, {'tick': 153, 'open': 2.25, 'high': 2.25, 'low': 2.24, 'close': 2.24}, {'tick': 152, 'open': 2.24, 'high': 2.25, 'low': 2.24, 'close': 2.25}, {'tick': 151, 'open': 2.24, 'high': 2.24, 'low': 2.24, 'close': 2.24}, {'tick': 150, 'open': 2.2, 'high': 2.24, 'low': 2.2, 'close': 2.24}, {'tick': 149, 'open': 2.26, 'high': 2.26, 'low': 2.2, 'close': 2.2}, {'tick': 148, 'open': 2.24, 'high': 2.26, 'low': 2.24, 'close': 2.26}, {'tick': 147, 'open': 2.39, 'high': 2.39, 'low': 2.24, 'close': 2.24}, {'tick': 146, 'open': 2.31, 'high': 2.39, 'low': 2.31, 'close': 2.39}, {'tick': 145, 'open': 2.22, 'high': 2.31, 'low': 2.22, 'close': 2.31}, {'tick': 144, 'open': 2.24, 'high': 2.24, 'low': 2.22, 'close': 2.22}, {'tick': 143, 'open': 2.37, 'high': 2.37, 'low': 2.24, 'close': 2.24}, {'tick': 142, 'open': 2.34, 'high': 2.37, 'low': 2.34, 'close': 2.37}, {'tick': 141, 'open': 2.42, 'high': 2.42, 'low': 2.34, 'close': 2.34}, {'tick': 140, 'open': 2.48, 'high': 2.48, 'low': 2.42, 'close': 2.42}, {'tick': 139, 'open': 2.35, 'high': 2.48, 'low': 2.35, 'close': 2.48}, {'tick': 138, 'open': 2.34, 'high': 2.35, 'low': 2.34, 'close': 2.35}, {'tick': 137, 'open': 2.31, 'high': 2.34, 'low': 2.31, 'close': 2.34}, {'tick': 136, 'open': 2.48, 'high': 2.48, 'low': 2.31, 'close': 2.31}, {'tick': 135, 'open': 2.54, 'high': 2.54, 'low': 2.48, 'close': 2.48}, {'tick': 134, 'open': 2.52, 'high': 2.54, 'low': 2.52, 'close': 2.54}, {'tick': 133, 'open': 2.53, 'high': 2.53, 'low': 2.52, 'close': 2.52}, {'tick': 132, 'open': 2.36, 'high': 2.53, 'low': 2.36, 'close': 2.53}, {'tick': 131, 'open': 2.27, 'high': 2.36, 'low': 2.27, 'close': 2.36}, {'tick': 130, 'open': 2.29, 'high': 2.29, 'low': 2.27, 'close': 2.27}, {'tick': 129, 'open': 2.28, 'high': 2.29, 'low': 2.28, 'close': 2.29}, {'tick': 128, 'open': 2.43, 'high': 2.43, 'low': 2.28, 'close': 2.28}, {'tick': 127, 'open': 2.34, 'high': 2.43, 'low': 2.34, 'close': 2.43}, {'tick': 126, 'open': 2.47, 'high': 2.47, 'low': 2.34, 'close': 2.34}, {'tick': 125, 'open': 2.41, 'high': 2.47, 'low': 2.41, 'close': 2.47}, {'tick': 124, 'open': 2.36, 'high': 2.41, 'low': 2.36, 'close': 2.41}, {'tick': 123, 'open': 2.36, 'high': 2.36, 'low': 2.36, 'close': 2.36}, {'tick': 122, 'open': 2.37, 'high': 2.37, 'low': 2.36, 'close': 2.36}, {'tick': 121, 'open': 2.52, 'high': 2.52, 'low': 2.37, 'close': 2.37}, {'tick': 120, 'open': 2.6, 'high': 2.6, 'low': 2.52, 'close': 2.52}, {'tick': 119, 'open': 2.33, 'high': 2.6, 'low': 2.33, 'close': 2.6}, {'tick': 118, 'open': 2.33, 'high': 2.33, 'low': 2.33, 'close': 2.33}, {'tick': 117, 'open': 2.42, 'high': 2.42, 'low': 2.33, 'close': 2.33}, {'tick': 116, 'open': 2.39, 'high': 2.42, 'low': 2.39, 'close': 2.42}, {'tick': 115, 'open': 2.54, 'high': 2.54, 'low': 2.39, 'close': 2.39}, {'tick': 114, 'open': 2.48, 'high': 2.54, 'low': 2.48, 'close': 2.54}, {'tick': 113, 'open': 2.59, 'high': 2.59, 'low': 2.48, 'close': 2.48}, {'tick': 112, 'open': 2.65, 'high': 2.65, 'low': 2.59, 'close': 2.59}, {'tick': 111, 'open': 2.57, 'high': 2.65, 'low': 2.57, 'close': 2.65}, {'tick': 110, 'open': 2.39, 'high': 2.57, 'low': 2.39, 'close': 2.57}, {'tick': 109, 'open': 2.4, 'high': 2.4, 'low': 2.39, 'close': 2.39}, {'tick': 108, 'open': 2.42, 'high': 2.42, 'low': 2.4, 'close': 2.4}, {'tick': 107, 'open': 2.32, 'high': 2.42, 'low': 2.32, 'close': 2.42}, {'tick': 106, 'open': 2.32, 'high': 2.32, 'low': 2.32, 'close': 2.32}, {'tick': 105, 'open': 2.37, 'high': 2.37, 'low': 2.32, 'close': 2.32}, {'tick': 104, 'open': 2.44, 'high': 2.44, 'low': 2.37, 'close': 2.37}, {'tick': 103, 'open': 2.44, 'high': 2.44, 'low': 2.44, 'close': 2.44}, {'tick': 102, 'open': 2.49, 'high': 2.49, 'low': 2.44, 'close': 2.44}, {'tick': 101, 'open': 2.47, 'high': 2.49, 'low': 2.47, 'close': 2.49}, {'tick': 100, 'open': 2.46, 'high': 2.47, 'low': 2.46, 'close': 2.47}, {'tick': 99, 'open': 2.62, 'high': 2.62, 'low': 2.46, 'close': 2.46}, {'tick': 98, 'open': 2.58, 'high': 2.62, 'low': 2.58, 'close': 2.62}, {'tick': 97, 'open': 2.58, 'high': 2.58, 'low': 2.58, 'close': 2.58}, {'tick': 96, 'open': 2.74, 'high': 2.74, 'low': 2.58, 'close': 2.58}, {'tick': 95, 'open': 2.75, 'high': 2.75, 'low': 2.74, 'close': 2.74}, {'tick': 94, 'open': 2.66, 'high': 2.75, 'low': 2.66, 'close': 2.75}, {'tick': 93, 'open': 2.64, 'high': 2.66, 'low': 2.64, 'close': 2.66}, {'tick': 92, 'open': 2.61, 'high': 2.64, 'low': 2.61, 'close': 2.64}, {'tick': 91, 'open': 2.86, 'high': 2.86, 'low': 2.61, 'close': 2.61}, {'tick': 90, 'open': 2.85, 'high': 2.86, 'low': 2.85, 'close': 2.86}, {'tick': 89, 'open': 2.98, 'high': 2.98, 'low': 2.85, 'close': 2.85}, {'tick': 88, 'open': 3.03, 'high': 3.03, 'low': 2.98, 'close': 2.98}, {'tick': 87, 'open': 3.06, 'high': 3.06, 'low': 3.03, 'close': 3.03}, {'tick': 86, 'open': 3.17, 'high': 3.17, 'low': 3.06, 'close': 3.06}, {'tick': 85, 'open': 3.16, 'high': 3.17, 'low': 3.16, 'close': 3.17}, {'tick': 84, 'open': 3.24, 'high': 3.24, 'low': 3.16, 'close': 3.16}, {'tick': 83, 'open': 3.14, 'high': 3.24, 'low': 3.14, 'close': 3.24}, {'tick': 82, 'open': 3.07, 'high': 3.14, 'low': 3.07, 'close': 3.14}, {'tick': 81, 'open': 3.03, 'high': 3.07, 'low': 3.03, 'close': 3.07}, {'tick': 80, 'open': 3.12, 'high': 3.12, 'low': 3.03, 'close': 3.03}, {'tick': 79, 'open': 3.06, 'high': 3.12, 'low': 3.06, 'close': 3.12}, {'tick': 78, 'open': 2.91, 'high': 3.06, 'low': 2.91, 'close': 3.06}, {'tick': 77, 'open': 2.89, 'high': 2.91, 'low': 2.89, 'close': 2.91}, {'tick': 76, 'open': 2.81, 'high': 2.89, 'low': 2.81, 'close': 2.89}, {'tick': 75, 'open': 2.67, 'high': 2.81, 'low': 2.67, 'close': 2.81}, {'tick': 74, 'open': 2.72, 'high': 2.72, 'low': 2.67, 'close': 2.67}, {'tick': 73, 'open': 2.88, 'high': 2.88, 'low': 2.72, 'close': 2.72}, {'tick': 72, 'open': 2.75, 'high': 2.88, 'low': 2.75, 'close': 2.88}, {'tick': 71, 'open': 2.59, 'high': 2.75, 'low': 2.59, 'close': 2.75}, {'tick': 70, 'open': 2.6, 'high': 2.6, 'low': 2.59, 'close': 2.59}, {'tick': 69, 'open': 2.61, 'high': 2.61, 'low': 2.6, 'close': 2.6}, {'tick': 68, 'open': 2.74, 'high': 2.74, 'low': 2.61, 'close': 2.61}, {'tick': 67, 'open': 2.76, 'high': 2.76, 'low': 2.74, 'close': 2.74}, {'tick': 66, 'open': 2.71, 'high': 2.76, 'low': 2.71, 'close': 2.76}, {'tick': 65, 'open': 2.72, 'high': 2.72, 'low': 2.71, 'close': 2.71}, {'tick': 64, 'open': 2.67, 'high': 2.72, 'low': 2.67, 'close': 2.72}, {'tick': 63, 'open': 2.67, 'high': 2.67, 'low': 2.67, 'close': 2.67}, {'tick': 62, 'open': 2.77, 'high': 2.77, 'low': 2.67, 'close': 2.67}, {'tick': 61, 'open': 2.66, 'high': 2.77, 'low': 2.66, 'close': 2.77}, {'tick': 60, 'open': 2.53, 'high': 2.66, 'low': 2.53, 'close': 2.66}, {'tick': 59, 'open': 2.34, 'high': 2.53, 'low': 2.34, 'close': 2.53}, {'tick': 58, 'open': 2.29, 'high': 2.34, 'low': 2.29, 'close': 2.34}, {'tick': 57, 'open': 2.28, 'high': 2.29, 'low': 2.28, 'close': 2.29}, {'tick': 56, 'open': 2.14, 'high': 2.28, 'low': 2.14, 'close': 2.28}, {'tick': 55, 'open': 2.23, 'high': 2.23, 'low': 2.14, 'close': 2.14}, {'tick': 54, 'open': 2.23, 'high': 2.23, 'low': 2.23, 'close': 2.23}, {'tick': 53, 'open': 2.17, 'high': 2.23, 'low': 2.17, 'close': 2.23}, {'tick': 52, 'open': 2.22, 'high': 2.22, 'low': 2.17, 'close': 2.17}, {'tick': 51, 'open': 2.24, 'high': 2.24, 'low': 2.22, 'close': 2.22}, {'tick': 50, 'open': 2.11, 'high': 2.24, 'low': 2.11, 'close': 2.24}, {'tick': 49, 'open': 2.22, 'high': 2.22, 'low': 2.11, 'close': 2.11}, {'tick': 48, 'open': 2.07, 'high': 2.22, 'low': 2.07, 'close': 2.22}, {'tick': 47, 'open': 2.06, 'high': 2.07, 'low': 2.06, 'close': 2.07}, {'tick': 46, 'open': 2.09, 'high': 2.09, 'low': 2.06, 'close': 2.06}, {'tick': 45, 'open': 2.03, 'high': 2.09, 'low': 2.03, 'close': 2.09}, {'tick': 44, 'open': 2.01, 'high': 2.03, 'low': 2.01, 'close': 2.03}, {'tick': 43, 'open': 1.97, 'high': 2.01, 'low': 1.97, 'close': 2.01}, {'tick': 42, 'open': 1.87, 'high': 1.97, 'low': 1.87, 'close': 1.97}, {'tick': 41, 'open': 1.79, 'high': 1.87, 'low': 1.79, 'close': 1.87}, {'tick': 40, 'open': 1.77, 'high': 1.79, 'low': 1.77, 'close': 1.79}, {'tick': 39, 'open': 1.89, 'high': 1.89, 'low': 1.77, 'close': 1.77}, {'tick': 38, 'open': 1.86, 'high': 1.89, 'low': 1.86, 'close': 1.89}, {'tick': 37, 'open': 1.83, 'high': 1.86, 'low': 1.83, 'close': 1.86}, {'tick': 36, 'open': 1.73, 'high': 1.83, 'low': 1.73, 'close': 1.83}, {'tick': 35, 'open': 1.87, 'high': 1.87, 'low': 1.73, 'close': 1.73}, {'tick': 34, 'open': 1.86, 'high': 1.87, 'low': 1.86, 'close': 1.87}, {'tick': 33, 'open': 1.83, 'high': 1.86, 'low': 1.83, 'close': 1.86}, {'tick': 32, 'open': 1.8, 'high': 1.83, 'low': 1.8, 'close': 1.83}, {'tick': 31, 'open': 1.71, 'high': 1.8, 'low': 1.71, 'close': 1.8}, {'tick': 30, 'open': 1.63, 'high': 1.71, 'low': 1.63, 'close': 1.71}, {'tick': 29, 'open': 1.7, 'high': 1.7, 'low': 1.63, 'close': 1.63}, {'tick': 28, 'open': 1.65, 'high': 1.7, 'low': 1.65, 'close': 1.7}, {'tick': 27, 'open': 1.81, 'high': 1.81, 'low': 1.65, 'close': 1.65}, {'tick': 26, 'open': 1.72, 'high': 1.81, 'low': 1.72, 'close': 1.81}, {'tick': 25, 'open': 1.85, 'high': 1.85, 'low': 1.72, 'close': 1.72}, {'tick': 24, 'open': 1.86, 'high': 1.86, 'low': 1.85, 'close': 1.85}, {'tick': 23, 'open': 1.99, 'high': 1.99, 'low': 1.86, 'close': 1.86}, {'tick': 22, 'open': 2.02, 'high': 2.02, 'low': 1.99, 'close': 1.99}, {'tick': 21, 'open': 2.13, 'high': 2.13, 'low': 2.02, 'close': 2.02}, {'tick': 20, 'open': 2.2, 'high': 2.2, 'low': 2.13, 'close': 2.13}, {'tick': 19, 'open': 2.08, 'high': 2.2, 'low': 2.08, 'close': 2.2}, {'tick': 18, 'open': 2.05, 'high': 2.08, 'low': 2.05, 'close': 2.08}, {'tick': 17, 'open': 2.14, 'high': 2.14, 'low': 2.05, 'close': 2.05}, {'tick': 16, 'open': 2.15, 'high': 2.15, 'low': 2.14, 'close': 2.14}, {'tick': 15, 'open': 1.92, 'high': 2.15, 'low': 1.92, 'close': 2.15}, {'tick': 14, 'open': 1.95, 'high': 1.95, 'low': 1.92, 'close': 1.92}, {'tick': 13, 'open': 1.97, 'high': 1.97, 'low': 1.95, 'close': 1.95}, {'tick': 12, 'open': 2.02, 'high': 2.02, 'low': 1.97, 'close': 1.97}, {'tick': 11, 'open': 2.15, 'high': 2.15, 'low': 2.02, 'close': 2.02}, {'tick': 10, 'open': 2.15, 'high': 2.15, 'low': 2.15, 'close': 2.15}, {'tick': 9, 'open': 2.27, 'high': 2.27, 'low': 2.15, 'close': 2.15}, {'tick': 8, 'open': 2.2, 'high': 2.27, 'low': 2.2, 'close': 2.27}, {'tick': 7, 'open': 2.26, 'high': 2.26, 'low': 2.2, 'close': 2.2}, {'tick': 6, 'open': 2.31, 'high': 2.31, 'low': 2.26, 'close': 2.26}, {'tick': 5, 'open': 2.33, 'high': 2.33, 'low': 2.31, 'close': 2.31}, {'tick': 4, 'open': 2.44, 'high': 2.44, 'low': 2.33, 'close': 2.33}, {'tick': 3, 'open': 2.39, 'high': 2.44, 'low': 2.39, 'close': 2.44}, {'tick': 2, 'open': 2.42, 'high': 2.42, 'low': 2.39, 'close': 2.39}, {'tick': 1, 'open': 2.42, 'high': 2.42, 'low': 2.42, 'close': 2.42}]\n"
     ]
    }
   ],
   "source": [
    "# securities_history_head = {'ticker': ticker, 'period': 20, 'limit': 30} # ticker as above, period as integer (default current period), limit of data points (all data points if not specified)\n",
    "securities_history_head = {'ticker': ticker} # from latest to oldest for ticker\n",
    "securitieshistory = requests.get(url + '/securities/history', headers=API_KEY, params=securities_history_head)\n",
    "print(securitieshistory.json())\n",
    "\n",
    "with open('responses/GETsecurities_history.json', 'w') as f:\n",
    "    f.write(securitieshistory.text)"
   ]
  },
  {
   "cell_type": "markdown",
   "metadata": {},
   "source": [
    "### **GET** /securities/tas\n",
    "\n",
    "*Gets time & sales history for a security. Data is anonymized. There are two modes of retrieval for this endpoint.\n",
    "If after is specified, then only data with an id value greater than after will be returned. This allows only incremental data to be retrieved by storing the last id value returned. Setting after=0 will return all time & sales data.\n",
    "Alternatively, specifying period & limit will fetch data from the corresponding period and tick window. For example, setting limit=0 returns only data from the current period and current tick.*"
   ]
  },
  {
   "cell_type": "code",
   "execution_count": 69,
   "metadata": {},
   "outputs": [
    {
     "name": "stdout",
     "output_type": "stream",
     "text": [
      "[]\n"
     ]
    }
   ],
   "source": [
    "# securities_tas_head = {'ticker': ticker, 'after': 5} # all orders processed after 5\n",
    "# securities_tas_head = {'ticker': ticker, 'period': 15, 'limit': 10} # all orders processed before 15 (extract 10)\n",
    "securities_tas_head = {'ticker': ticker} # all orders processed before current period\n",
    "securitiestas = requests.get(url + '/securities/tas', headers=API_KEY, params=securities_tas_head)\n",
    "print(securitiestas.json())\n",
    "\n",
    "with open('responses/GETsecurities_tas.json', 'w') as f:\n",
    "    f.write(securitiestas.text)"
   ]
  },
  {
   "cell_type": "markdown",
   "metadata": {},
   "source": [
    "### **GET** /orders"
   ]
  },
  {
   "cell_type": "code",
   "execution_count": 70,
   "metadata": {},
   "outputs": [
    {
     "name": "stdout",
     "output_type": "stream",
     "text": [
      "[]\n"
     ]
    }
   ],
   "source": [
    "orders = requests.get(url + '/orders', headers=API_KEY)\n",
    "print(orders.json())\n",
    "\n",
    "with open('responses/GETorders.json', 'w') as f:\n",
    "    f.write(orders.text)"
   ]
  },
  {
   "cell_type": "markdown",
   "metadata": {},
   "source": [
    "### **POST** /orders"
   ]
  },
  {
   "cell_type": "code",
   "execution_count": 71,
   "metadata": {},
   "outputs": [
    {
     "name": "stdout",
     "output_type": "stream",
     "text": [
      "{'code': 'FORBIDDEN', 'message': 'API order submission has been disabled for this simulation.'}\n"
     ]
    }
   ],
   "source": [
    "# orders_head = {'ticker': ticker, 'type':'LIMIT', 'quantity': 1, 'action': 'BUY', 'price': 100} # place limit \"BUY\" order for ticker @ price (100) for quantity (1)\n",
    "# orders_head = {'ticker': ticker, 'type':'MARKET', 'quantity': 1, 'action': 'SELL', 'dry_run': 0} # place market \"SELL\" order for ticker for quantity (1) without dry_run (no simulation)\n",
    "orders_head = {'ticker': ticker, 'type':'MARKET', 'quantity': 1, 'action': 'SELL'} # place market \"SELL\" order for ticker for quantity (1)\n",
    "orders = requests.post(url + '/orders', headers=API_KEY, params=orders_head)\n",
    "print(orders.json())\n",
    "\n",
    "with open('responses/POSTorders.json', 'w') as f:\n",
    "    f.write(orders.text)"
   ]
  },
  {
   "cell_type": "markdown",
   "metadata": {},
   "source": [
    "### **GET** /orders/{id}"
   ]
  },
  {
   "cell_type": "code",
   "execution_count": 1,
   "metadata": {},
   "outputs": [
    {
     "ename": "NameError",
     "evalue": "name 'requests' is not defined",
     "output_type": "error",
     "traceback": [
      "\u001b[1;31m---------------------------------------------------------------------------\u001b[0m",
      "\u001b[1;31mNameError\u001b[0m                                 Traceback (most recent call last)",
      "Cell \u001b[1;32mIn [1], line 2\u001b[0m\n\u001b[0;32m      1\u001b[0m order_head \u001b[39m=\u001b[39m {\u001b[39m'\u001b[39m\u001b[39mid\u001b[39m\u001b[39m'\u001b[39m: \u001b[39m1\u001b[39m} \u001b[39m# id of the order\u001b[39;00m\n\u001b[1;32m----> 2\u001b[0m order \u001b[39m=\u001b[39m requests\u001b[39m.\u001b[39mget(url \u001b[39m+\u001b[39m \u001b[39m'\u001b[39m\u001b[39m/order\u001b[39m\u001b[39m'\u001b[39m, headers\u001b[39m=\u001b[39mAPI_KEY, params\u001b[39m=\u001b[39morder_head)\n\u001b[0;32m      4\u001b[0m \u001b[39mwith\u001b[39;00m \u001b[39mopen\u001b[39m(\u001b[39m'\u001b[39m\u001b[39mresponses/GETorder.json\u001b[39m\u001b[39m'\u001b[39m, \u001b[39m'\u001b[39m\u001b[39mw\u001b[39m\u001b[39m'\u001b[39m) \u001b[39mas\u001b[39;00m f:\n\u001b[0;32m      5\u001b[0m     f\u001b[39m.\u001b[39mwrite(order\u001b[39m.\u001b[39mtext)\n",
      "\u001b[1;31mNameError\u001b[0m: name 'requests' is not defined"
     ]
    }
   ],
   "source": [
    "order_head = {'id': 1} # id of the order\n",
    "order = requests.get(url + '/order', headers=API_KEY, params=order_head)\n",
    "\n",
    "with open('responses/GETorder.json', 'w') as f:\n",
    "    f.write(order.text)"
   ]
  },
  {
   "cell_type": "markdown",
   "metadata": {},
   "source": [
    "### **DELETE** /orders/{id}"
   ]
  },
  {
   "cell_type": "code",
   "execution_count": null,
   "metadata": {},
   "outputs": [],
   "source": []
  },
  {
   "cell_type": "markdown",
   "metadata": {},
   "source": [
    "### **GET** /tenders"
   ]
  },
  {
   "cell_type": "code",
   "execution_count": null,
   "metadata": {},
   "outputs": [],
   "source": []
  },
  {
   "cell_type": "markdown",
   "metadata": {},
   "source": [
    "### **DELETE** /tenders/{id}"
   ]
  },
  {
   "cell_type": "code",
   "execution_count": null,
   "metadata": {},
   "outputs": [],
   "source": []
  },
  {
   "cell_type": "markdown",
   "metadata": {},
   "source": [
    "### **GET** /leases"
   ]
  },
  {
   "cell_type": "code",
   "execution_count": null,
   "metadata": {},
   "outputs": [],
   "source": []
  },
  {
   "cell_type": "markdown",
   "metadata": {},
   "source": [
    "### **POST** /leases"
   ]
  },
  {
   "cell_type": "code",
   "execution_count": null,
   "metadata": {},
   "outputs": [],
   "source": []
  },
  {
   "cell_type": "markdown",
   "metadata": {},
   "source": [
    "### **GET** /leases/{id}"
   ]
  },
  {
   "cell_type": "code",
   "execution_count": null,
   "metadata": {},
   "outputs": [],
   "source": []
  },
  {
   "cell_type": "markdown",
   "metadata": {},
   "source": [
    "### **POST** /leases/{id}"
   ]
  },
  {
   "cell_type": "code",
   "execution_count": null,
   "metadata": {},
   "outputs": [],
   "source": []
  },
  {
   "cell_type": "code",
   "execution_count": 2,
   "metadata": {},
   "outputs": [],
   "source": [
    "f = [{'ticker': 'RTM', 'type': 'STOCK', 'size': 1, 'position': 0.0, 'vwap': 0.0, 'nlv': 0.0, 'last': 48.57, 'bid': 48.56, 'bid_size': 100000000.0, 'ask': 48.58, 'ask_size': 100000000.0, 'volume': 0.0, 'unrealized': 0.0, 'realized': 0.0, 'currency': '', 'total_volume': 0.0, 'limits': [{'name': 'Limit-ETF', 'units': 1.0}], 'interest_rate': 0.0, 'is_tradeable': True, 'is_shortable': True, 'start_period': 1, 'stop_period': 1, 'description': 'ETF', 'unit_multiplier': 1, 'display_unit': '', 'start_price': 50.0, 'min_price': 0.0, 'max_price': 100.0, 'quoted_decimals': 2, 'trading_fee': 0.0, 'limit_order_rebate': 0.0, 'min_trade_size': 0, 'max_trade_size': 10000, 'required_tickers': None, 'underlying_tickers': None, 'bond_coupon': 0.0, 'interest_payments_per_period': 0, 'base_security': '', 'fixing_ticker': None, 'api_orders_per_second': 1, 'execution_delay_ms': 0, 'interest_rate_ticker': None, 'otc_price_range': 0.0}, {'ticker': 'RTM48C', 'type': 'OPTION', 'size': 100, 'position': 0.0, 'vwap': 0.0, 'nlv': 0.0, 'last': 0.83, 'bid': 0.82, 'bid_size': 1000000.0, 'ask': 0.84, 'ask_size': 1000000.0, 'volume': 0.0, 'unrealized': 0.0, 'realized': 0.0, 'currency': '', 'total_volume': 0.0, 'limits': [{'name': 'Limit-OPT', 'units': 1.0}], 'interest_rate': 0.0, 'is_tradeable': True, 'is_shortable': True, 'start_period': 1, 'stop_period': 1, 'description': 'Options', 'unit_multiplier': 100, 'display_unit': '', 'start_price': 2.42, 'min_price': 0.0, 'max_price': 50.0, 'quoted_decimals': 2, 'trading_fee': 0.0, 'limit_order_rebate': 0.0, 'min_trade_size': 0, 'max_trade_size': 100, 'required_tickers': None, 'underlying_tickers': None, 'bond_coupon': 0.0, 'interest_payments_per_period': 0, 'base_security': '', 'fixing_ticker': None, 'api_orders_per_second': 1, 'execution_delay_ms': 0, 'interest_rate_ticker': None, 'otc_price_range': 0.0}, {'ticker': 'RTM48P', 'type': 'OPTION', 'size': 100, 'position': 0.0, 'vwap': 0.0, 'nlv': 0.0, 'last': 0.26, 'bid': 0.25, 'bid_size': 1000000.0, 'ask': 0.27, 'ask_size': 1000000.0, 'volume': 0.0, 'unrealized': 0.0, 'realized': 0.0, 'currency': '', 'total_volume': 0.0, 'limits': [{'name': 'Limit-OPT', 'units': 1.0}], 'interest_rate': 0.0, 'is_tradeable': True, 'is_shortable': True, 'start_period': 1, 'stop_period': 1, 'description': 'Options', 'unit_multiplier': 100, 'display_unit': '', 'start_price': 0.42, 'min_price': 0.0, 'max_price': 50.0, 'quoted_decimals': 2, 'trading_fee': 0.0, 'limit_order_rebate': 0.0, 'min_trade_size': 0, 'max_trade_size': 100, 'required_tickers': None, 'underlying_tickers': None, 'bond_coupon': 0.0, 'interest_payments_per_period': 0, 'base_security': '', 'fixing_ticker': None, 'api_orders_per_second': 1, 'execution_delay_ms': 0, 'interest_rate_ticker': None, 'otc_price_range': 0.0}, {'ticker': 'RTM49C', 'type': 'OPTION', 'size': 100, 'position': 0.0, 'vwap': 0.0, 'nlv': 0.0, 'last': 0.31, 'bid': 0.3, 'bid_size': 1000000.0, 'ask': 0.32, 'ask_size': 1000000.0, 'volume': 0.0, 'unrealized': 0.0, 'realized': 0.0, 'currency': '', 'total_volume': 0.0, 'limits': [{'name': 'Limit-OPT', 'units': 1.0}], 'interest_rate': 0.0, 'is_tradeable': True, 'is_shortable': True, 'start_period': 1, 'stop_period': 1, 'description': 'Options', 'unit_multiplier': 100, 'display_unit': '', 'start_price': 1.72, 'min_price': 0.0, 'max_price': 50.0, 'quoted_decimals': 2, 'trading_fee': 0.0, 'limit_order_rebate': 0.0, 'min_trade_size': 0, 'max_trade_size': 100, 'required_tickers': None, 'underlying_tickers': None, 'bond_coupon': 0.0, 'interest_payments_per_period': 0, 'base_security': '', 'fixing_ticker': None, 'api_orders_per_second': 1, 'execution_delay_ms': 0, 'interest_rate_ticker': None, 'otc_price_range': 0.0}, {'ticker': 'RTM49P', 'type': 'OPTION', 'size': 100, 'position': 0.0, 'vwap': 0.0, 'nlv': 0.0, 'last': 0.74, 'bid': 0.73, 'bid_size': 1000000.0, 'ask': 0.75, 'ask_size': 1000000.0, 'volume': 0.0, 'unrealized': 0.0, 'realized': 0.0, 'currency': '', 'total_volume': 0.0, 'limits': [{'name': 'Limit-OPT', 'units': 1.0}], 'interest_rate': 0.0, 'is_tradeable': True, 'is_shortable': True, 'start_period': 1, 'stop_period': 1, 'description': 'Options', 'unit_multiplier': 100, 'display_unit': '', 'start_price': 0.72, 'min_price': 0.0, 'max_price': 50.0, 'quoted_decimals': 2, 'trading_fee': 0.0, 'limit_order_rebate': 0.0, 'min_trade_size': 0, 'max_trade_size': 100, 'required_tickers': None, 'underlying_tickers': None, 'bond_coupon': 0.0, 'interest_payments_per_period': 0, 'base_security': '', 'fixing_ticker': None, 'api_orders_per_second': 1, 'execution_delay_ms': 0, 'interest_rate_ticker': None, 'otc_price_range': 0.0}, {'ticker': 'RTM50C', 'type': 'OPTION', 'size': 100, 'position': 0.0, 'vwap': 0.0, 'nlv': 0.0, 'last': 0.08, 'bid': 0.07, 'bid_size': 1000000.0, 'ask': 0.09, 'ask_size': 1000000.0, 'volume': 0.0, 'unrealized': 0.0, 'realized': 0.0, 'currency': '', 'total_volume': 0.0, 'limits': [{'name': 'Limit-OPT', 'units': 1.0}], 'interest_rate': 0.0, 'is_tradeable': True, 'is_shortable': True, 'start_period': 1, 'stop_period': 1, 'description': 'Options', 'unit_multiplier': 100, 'display_unit': '', 'start_price': 1.16, 'min_price': 0.0, 'max_price': 50.0, 'quoted_decimals': 2, 'trading_fee': 0.0, 'limit_order_rebate': 0.0, 'min_trade_size': 0, 'max_trade_size': 100, 'required_tickers': None, 'underlying_tickers': None, 'bond_coupon': 0.0, 'interest_payments_per_period': 0, 'base_security': '', 'fixing_ticker': None, 'api_orders_per_second': 1, 'execution_delay_ms': 0, 'interest_rate_ticker': None, 'otc_price_range': 0.0}, {'ticker': 'RTM50P', 'type': 'OPTION', 'size': 100, 'position': 0.0, 'vwap': 0.0, 'nlv': 0.0, 'last': 1.51, 'bid': 1.5, 'bid_size': 1000000.0, 'ask': 1.52, 'ask_size': 1000000.0, 'volume': 0.0, 'unrealized': 0.0, 'realized': 0.0, 'currency': '', 'total_volume': 0.0, 'limits': [{'name': 'Limit-OPT', 'units': 1.0}], 'interest_rate': 0.0, 'is_tradeable': True, 'is_shortable': True, 'start_period': 1, 'stop_period': 1, 'description': 'Options', 'unit_multiplier': 100, 'display_unit': '', 'start_price': 1.16, 'min_price': 0.0, 'max_price': 50.0, 'quoted_decimals': 2, 'trading_fee': 0.0, 'limit_order_rebate': 0.0, 'min_trade_size': 0, 'max_trade_size': 100, 'required_tickers': None, 'underlying_tickers': None, 'bond_coupon': 0.0, 'interest_payments_per_period': 0, 'base_security': '', 'fixing_ticker': None, 'api_orders_per_second': 1, 'execution_delay_ms': 0, 'interest_rate_ticker': None, 'otc_price_range': 0.0}, {'ticker': 'RTM51C', 'type': 'OPTION', 'size': 100, 'position': 0.0, 'vwap': 0.0, 'nlv': 0.0, 'last': 0.02, 'bid': 0.01, 'bid_size': 1000000.0, 'ask': 0.03, 'ask_size': 1000000.0, 'volume': 0.0, 'unrealized': 0.0, 'realized': 0.0, 'currency': '', 'total_volume': 0.0, 'limits': [{'name': 'Limit-OPT', 'units': 1.0}], 'interest_rate': 0.0, 'is_tradeable': True, 'is_shortable': True, 'start_period': 1, 'stop_period': 1, 'description': 'Options', 'unit_multiplier': 100, 'display_unit': '', 'start_price': 0.74, 'min_price': 0.0, 'max_price': 50.0, 'quoted_decimals': 2, 'trading_fee': 0.0, 'limit_order_rebate': 0.0, 'min_trade_size': 0, 'max_trade_size': 100, 'required_tickers': None, 'underlying_tickers': None, 'bond_coupon': 0.0, 'interest_payments_per_period': 0, 'base_security': '', 'fixing_ticker': None, 'api_orders_per_second': 1, 'execution_delay_ms': 0, 'interest_rate_ticker': None, 'otc_price_range': 0.0}, {'ticker': 'RTM51P', 'type': 'OPTION', 'size': 100, 'position': 0.0, 'vwap': 0.0, 'nlv': 0.0, 'last': 2.45, 'bid': 2.44, 'bid_size': 1000000.0, 'ask': 2.46, 'ask_size': 1000000.0, 'volume': 0.0, 'unrealized': 0.0, 'realized': 0.0, 'currency': '', 'total_volume': 0.0, 'limits': [{'name': 'Limit-OPT', 'units': 1.0}], 'interest_rate': 0.0, 'is_tradeable': True, 'is_shortable': True, 'start_period': 1, 'stop_period': 1, 'description': 'Options', 'unit_multiplier': 100, 'display_unit': '', 'start_price': 1.74, 'min_price': 0.0, 'max_price': 50.0, 'quoted_decimals': 2, 'trading_fee': 0.0, 'limit_order_rebate': 0.0, 'min_trade_size': 0, 'max_trade_size': 100, 'required_tickers': None, 'underlying_tickers': None, 'bond_coupon': 0.0, 'interest_payments_per_period': 0, 'base_security': '', 'fixing_ticker': None, 'api_orders_per_second': 1, 'execution_delay_ms': 0, 'interest_rate_ticker': None, 'otc_price_range': 0.0}, {'ticker': 'RTM52C', 'type': 'OPTION', 'size': 100, 'position': 0.0, 'vwap': 0.0, 'nlv': 0.0, 'last': 0.02, 'bid': 0.01, 'bid_size': 1000000.0, 'ask': 0.03, 'ask_size': 1000000.0, 'volume': 0.0, 'unrealized': 0.0, 'realized': 0.0, 'currency': '', 'total_volume': 0.0, 'limits': [{'name': 'Limit-OPT', 'units': 1.0}], 'interest_rate': 0.0, 'is_tradeable': True, 'is_shortable': True, 'start_period': 1, 'stop_period': 1, 'description': 'Options', 'unit_multiplier': 100, 'display_unit': '', 'start_price': 0.45, 'min_price': 0.0, 'max_price': 50.0, 'quoted_decimals': 2, 'trading_fee': 0.0, 'limit_order_rebate': 0.0, 'min_trade_size': 0, 'max_trade_size': 100, 'required_tickers': None, 'underlying_tickers': None, 'bond_coupon': 0.0, 'interest_payments_per_period': 0, 'base_security': '', 'fixing_ticker': None, 'api_orders_per_second': 1, 'execution_delay_ms': 0, 'interest_rate_ticker': None, 'otc_price_range': 0.0}, {'ticker': 'RTM52P', 'type': 'OPTION', 'size': 100, 'position': 0.0, 'vwap': 0.0, 'nlv': 0.0, 'last': 3.43, 'bid': 3.42, 'bid_size': 1000000.0, 'ask': 3.44, 'ask_size': 1000000.0, 'volume': 0.0, 'unrealized': 0.0, 'realized': 0.0, 'currency': '', 'total_volume': 0.0, 'limits': [{'name': 'Limit-OPT', 'units': 1.0}], 'interest_rate': 0.0, 'is_tradeable': True, 'is_shortable': True, 'start_period': 1, 'stop_period': 1, 'description': 'Options', 'unit_multiplier': 100, 'display_unit': '', 'start_price': 2.45, 'min_price': 0.0, 'max_price': 50.0, 'quoted_decimals': 2, 'trading_fee': 0.0, 'limit_order_rebate': 0.0, 'min_trade_size': 0, 'max_trade_size': 100, 'required_tickers': None, 'underlying_tickers': None, 'bond_coupon': 0.0, 'interest_payments_per_period': 0, 'base_security': '', 'fixing_ticker': None, 'api_orders_per_second': 1, 'execution_delay_ms': 0, 'interest_rate_ticker': None, 'otc_price_range': 0.0}]"
   ]
  },
  {
   "cell_type": "code",
   "execution_count": 9,
   "metadata": {},
   "outputs": [
    {
     "data": {
      "text/plain": [
       "dict_keys(['ticker', 'type', 'size', 'position', 'vwap', 'nlv', 'last', 'bid', 'bid_size', 'ask', 'ask_size', 'volume', 'unrealized', 'realized', 'currency', 'total_volume', 'limits', 'interest_rate', 'is_tradeable', 'is_shortable', 'start_period', 'stop_period', 'description', 'unit_multiplier', 'display_unit', 'start_price', 'min_price', 'max_price', 'quoted_decimals', 'trading_fee', 'limit_order_rebate', 'min_trade_size', 'max_trade_size', 'required_tickers', 'underlying_tickers', 'bond_coupon', 'interest_payments_per_period', 'base_security', 'fixing_ticker', 'api_orders_per_second', 'execution_delay_ms', 'interest_rate_ticker', 'otc_price_range'])"
      ]
     },
     "execution_count": 9,
     "metadata": {},
     "output_type": "execute_result"
    }
   ],
   "source": [
    "f[0].keys()"
   ]
  },
  {
   "cell_type": "code",
   "execution_count": null,
   "metadata": {},
   "outputs": [],
   "source": []
  }
 ],
 "metadata": {
  "kernelspec": {
   "display_name": "Python 3",
   "language": "python",
   "name": "python3"
  },
  "language_info": {
   "codemirror_mode": {
    "name": "ipython",
    "version": 3
   },
   "file_extension": ".py",
   "mimetype": "text/x-python",
   "name": "python",
   "nbconvert_exporter": "python",
   "pygments_lexer": "ipython3",
   "version": "3.10.8"
  },
  "orig_nbformat": 4,
  "vscode": {
   "interpreter": {
    "hash": "e2f04cf2f7544c889a1a0098c1cf78ced2c664ea38df0d27a9b899b5831aa2a5"
   }
  }
 },
 "nbformat": 4,
 "nbformat_minor": 2
}
