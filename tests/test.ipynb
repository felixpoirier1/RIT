{
 "cells": [
  {
   "cell_type": "markdown",
   "metadata": {},
   "source": [
    "# Packages"
   ]
  },
  {
   "cell_type": "code",
   "execution_count": 1,
   "metadata": {},
   "outputs": [],
   "source": [
    "import requests"
   ]
  },
  {
   "cell_type": "markdown",
   "metadata": {},
   "source": [
    "# Setup"
   ]
  },
  {
   "cell_type": "code",
   "execution_count": 21,
   "metadata": {},
   "outputs": [],
   "source": [
    "API_KEY = {'X-API-Key': str(input('Enter API Key: '))}\n",
    "host = str(input('Enter Host: '))\n",
    "url = 'https://localhost:' + host + '/v1'"
   ]
  },
  {
   "cell_type": "code",
   "execution_count": 20,
   "metadata": {},
   "outputs": [
    {
     "data": {
      "text/plain": [
       "'https://localhost:9009/v1/'"
      ]
     },
     "execution_count": 20,
     "metadata": {},
     "output_type": "execute_result"
    }
   ],
   "source": [
    "url"
   ]
  },
  {
   "cell_type": "code",
   "execution_count": null,
   "metadata": {},
   "outputs": [],
   "source": [
    "ticker  = str(input('Enter Ticker: '))"
   ]
  },
  {
   "cell_type": "markdown",
   "metadata": {},
   "source": [
    "# API endpoint tests"
   ]
  },
  {
   "cell_type": "markdown",
   "metadata": {},
   "source": [
    "### **GET** /case"
   ]
  },
  {
   "cell_type": "code",
   "execution_count": 30,
   "metadata": {},
   "outputs": [],
   "source": [
    "case = requests.get(url + '/case', headers=API_KEY)\n",
    "print(case.json())\n",
    "\n",
    "with open('responses/GETcase.json', 'w') as f:\n",
    "    f.write(case.text)"
   ]
  },
  {
   "cell_type": "markdown",
   "metadata": {},
   "source": [
    "### **GET** /trader"
   ]
  },
  {
   "cell_type": "code",
   "execution_count": null,
   "metadata": {},
   "outputs": [],
   "source": [
    "trader = requests.get(url + '/trader', headers=API_KEY)\n",
    "print(trader.json())\n",
    "\n",
    "with open('responses/GETtrader.json', 'w') as f:\n",
    "    f.write(trader.text)"
   ]
  },
  {
   "cell_type": "markdown",
   "metadata": {},
   "source": [
    "### **GET** /limits"
   ]
  },
  {
   "cell_type": "code",
   "execution_count": null,
   "metadata": {},
   "outputs": [],
   "source": [
    "limits = requests.get(url + '/limits', headers=API_KEY)\n",
    "print(limits.json())\n",
    "\n",
    "with open('responses/GETlimits.json', 'w') as f:\n",
    "    f.write(limits.text)"
   ]
  },
  {
   "cell_type": "markdown",
   "metadata": {},
   "source": [
    "### **GET** /news"
   ]
  },
  {
   "cell_type": "code",
   "execution_count": null,
   "metadata": {},
   "outputs": [],
   "source": [
    "since = 0 # only retieve news since this date (value must be a news Id)\n",
    "limit = 30 # limit the number of news to retrieve (default is 20)\n",
    "news_head = {'since':since, 'limit':limit}\n",
    "news = requests.get(url + '/news', headers=API_KEY, params=news_head)\n",
    "print(news.json())\n",
    "\n",
    "with open('responses/GETnews.json', 'w') as f:\n",
    "    f.write(news.text)"
   ]
  },
  {
   "cell_type": "markdown",
   "metadata": {},
   "source": [
    "### **GET** /assets"
   ]
  },
  {
   "cell_type": "code",
   "execution_count": null,
   "metadata": {},
   "outputs": [],
   "source": [
    "assets = requests.get(url + '/assets', headers=API_KEY)\n",
    "print(assets.json())\n",
    "\n",
    "with open('responses/GETassets.json', 'w') as f:\n",
    "    f.write(assets.text)"
   ]
  },
  {
   "cell_type": "markdown",
   "metadata": {},
   "source": [
    "### **GET** /assets\n",
    "\n",
    "for specific stock"
   ]
  },
  {
   "cell_type": "code",
   "execution_count": null,
   "metadata": {},
   "outputs": [],
   "source": [
    "asset_head = {'ticker': ticker} # ticker of the asset\n",
    "asset = requests.get(url + '/asset', headers=API_KEY, params=asset_head)\n",
    "print(asset.json())\n",
    "\n",
    "with open('responses/GETasset.json', 'w') as f:\n",
    "    f.write(asset.text)"
   ]
  },
  {
   "cell_type": "markdown",
   "metadata": {},
   "source": [
    "### **GET** /assets/history"
   ]
  },
  {
   "cell_type": "code",
   "execution_count": null,
   "metadata": {},
   "outputs": [],
   "source": [
    "# assets_history_head = {'ticker': ticker, 'period': 20, 'limit': 30} # ticker as above, period as integer, limit of data points\n",
    "assets_history_head = {'ticker': ticker} # from latest to oldest for ticker\n",
    "assetshistory = requests.get(url + '/assets/history', headers=API_KEY, params=assets_history_head)\n",
    "print(assetshistory.json())\n",
    "\n",
    "with open('responses/GETassets_history.json', 'w') as f:\n",
    "    f.write(assetshistory.text)"
   ]
  },
  {
   "cell_type": "markdown",
   "metadata": {},
   "source": [
    "### **GET** /securities"
   ]
  },
  {
   "cell_type": "code",
   "execution_count": null,
   "metadata": {},
   "outputs": [],
   "source": [
    "# securities_head = {'ticker': ticker} # ticker of the asset\n",
    "securities = requests.get(url + '/securities', headers=API_KEY)\n",
    "print(securities.json())\n",
    "\n",
    "with open('responses/GETsecurities.json', 'w') as f:\n",
    "    f.write(securities.text)"
   ]
  },
  {
   "cell_type": "markdown",
   "metadata": {},
   "source": [
    "### **GET** /securities/book"
   ]
  },
  {
   "cell_type": "code",
   "execution_count": null,
   "metadata": {},
   "outputs": [],
   "source": [
    "# securities_book_head = {'ticker': ticker, 'limit': 30} # ticker of the asset with limit of data points for bid and ask sides\n",
    "securities_book_head = {'ticker': ticker, 'limit': 30}\n",
    "securitiesbook = requests.get(url + '/securities/book', headers=API_KEY, params=securities_book_head)\n",
    "\n",
    "with open('responses/GETsecurities_book.json', 'w') as f:\n",
    "    f.write(securitiesbook.text)"
   ]
  },
  {
   "cell_type": "markdown",
   "metadata": {},
   "source": [
    "### **GET** /securities/history"
   ]
  },
  {
   "cell_type": "code",
   "execution_count": null,
   "metadata": {},
   "outputs": [],
   "source": [
    "# securities_history_head = {'ticker': ticker, 'period': 20, 'limit': 30} # ticker as above, period as integer (default current period), limit of data points (all data points if not specified)\n",
    "securities_history_head = {'ticker': ticker} # from latest to oldest for ticker\n",
    "securitieshistory = requests.get(url + '/securities/history', headers=API_KEY, params=securities_history_head)\n",
    "print(securitieshistory.json())\n",
    "\n",
    "with open('responses/GETsecurities_history.json', 'w') as f:\n",
    "    f.write(securitieshistory.text)"
   ]
  },
  {
   "cell_type": "markdown",
   "metadata": {},
   "source": [
    "### **GET** /securities/tas\n",
    "\n",
    "*Gets time & sales history for a security. Data is anonymized. There are two modes of retrieval for this endpoint.\n",
    "If after is specified, then only data with an id value greater than after will be returned. This allows only incremental data to be retrieved by storing the last id value returned. Setting after=0 will return all time & sales data.\n",
    "Alternatively, specifying period & limit will fetch data from the corresponding period and tick window. For example, setting limit=0 returns only data from the current period and current tick.*"
   ]
  },
  {
   "cell_type": "code",
   "execution_count": null,
   "metadata": {},
   "outputs": [],
   "source": [
    "# securities_tas_head = {'ticker': ticker, 'after': 5} # all orders processed after 5\n",
    "# securities_tas_head = {'ticker': ticker, 'period': 15, 'limit': 10} # all orders processed before 15 (extract 10)\n",
    "securities_tas_head = {'ticker': ticker} # all orders processed before current period\n",
    "securitiestas = requests.get(url + '/securities/tas', headers=API_KEY, params=securities_tas_head)\n",
    "print(securitiestas.json())\n",
    "\n",
    "with open('responses/GETsecurities_tas.json', 'w') as f:\n",
    "    f.write(securitiestas.text)"
   ]
  },
  {
   "cell_type": "markdown",
   "metadata": {},
   "source": [
    "### **GET** /orders"
   ]
  },
  {
   "cell_type": "code",
   "execution_count": null,
   "metadata": {},
   "outputs": [],
   "source": [
    "orders = requests.get(url + '/orders', headers=API_KEY)\n",
    "print(orders.json())\n",
    "\n",
    "with open('responses/GETorders.json', 'w') as f:\n",
    "    f.write(orders.text)"
   ]
  },
  {
   "cell_type": "markdown",
   "metadata": {},
   "source": [
    "### **POST** /orders"
   ]
  },
  {
   "cell_type": "code",
   "execution_count": null,
   "metadata": {},
   "outputs": [],
   "source": [
    "# orders_head = {'ticker': ticker, 'type':'LIMIT', 'quantity': 1, 'action': 'BUY', 'price': 100} # place limit \"BUY\" order for ticker @ price (100) for quantity (1)\n",
    "# orders_head = {'ticker': ticker, 'type':'MARKET', 'quantity': 1, 'action': 'SELL', 'dry_run': 0} # place market \"SELL\" order for ticker for quantity (1) without dry_run (no simulation)\n",
    "orders_head = {'ticker': ticker, 'type':'MARKET', 'quantity': 1, 'action': 'SELL'} # place market \"SELL\" order for ticker for quantity (1)\n",
    "orders = requests.post(url + '/orders', headers=API_KEY, params=orders_head)\n",
    "print(orders.json())\n",
    "\n",
    "with open('responses/POSTorders.json', 'w') as f:\n",
    "    f.write(orders.text)"
   ]
  },
  {
   "cell_type": "markdown",
   "metadata": {},
   "source": [
    "### **GET** /orders/{id}"
   ]
  },
  {
   "cell_type": "code",
   "execution_count": null,
   "metadata": {},
   "outputs": [],
   "source": []
  },
  {
   "cell_type": "markdown",
   "metadata": {},
   "source": [
    "### **DELETE** /orders/{id}"
   ]
  },
  {
   "cell_type": "code",
   "execution_count": null,
   "metadata": {},
   "outputs": [],
   "source": []
  },
  {
   "cell_type": "markdown",
   "metadata": {},
   "source": [
    "### **GET** /tenders"
   ]
  },
  {
   "cell_type": "code",
   "execution_count": null,
   "metadata": {},
   "outputs": [],
   "source": []
  },
  {
   "cell_type": "markdown",
   "metadata": {},
   "source": [
    "### **DELETE** /tenders/{id}"
   ]
  },
  {
   "cell_type": "code",
   "execution_count": null,
   "metadata": {},
   "outputs": [],
   "source": []
  },
  {
   "cell_type": "markdown",
   "metadata": {},
   "source": [
    "### **GET** /leases"
   ]
  },
  {
   "cell_type": "code",
   "execution_count": null,
   "metadata": {},
   "outputs": [],
   "source": []
  },
  {
   "cell_type": "markdown",
   "metadata": {},
   "source": [
    "### **POST** /leases"
   ]
  },
  {
   "cell_type": "code",
   "execution_count": null,
   "metadata": {},
   "outputs": [],
   "source": []
  },
  {
   "cell_type": "markdown",
   "metadata": {},
   "source": [
    "### **GET** /leases/{id}"
   ]
  },
  {
   "cell_type": "code",
   "execution_count": null,
   "metadata": {},
   "outputs": [],
   "source": []
  },
  {
   "cell_type": "markdown",
   "metadata": {},
   "source": [
    "### **POST** /leases/{id}"
   ]
  },
  {
   "cell_type": "code",
   "execution_count": null,
   "metadata": {},
   "outputs": [],
   "source": []
  },
  {
   "cell_type": "code",
   "execution_count": null,
   "metadata": {},
   "outputs": [],
   "source": []
  }
 ],
 "metadata": {
  "kernelspec": {
   "display_name": "Python 3.10.8 64-bit",
   "language": "python",
   "name": "python3"
  },
  "language_info": {
   "codemirror_mode": {
    "name": "ipython",
    "version": 3
   },
   "file_extension": ".py",
   "mimetype": "text/x-python",
   "name": "python",
   "nbconvert_exporter": "python",
   "pygments_lexer": "ipython3",
   "version": "3.10.8"
  },
  "orig_nbformat": 4,
  "vscode": {
   "interpreter": {
    "hash": "67e0cbc25fa4f5baaacba1240f401bc655b640f8e15cfc935dfee2e63491bdf4"
   }
  }
 },
 "nbformat": 4,
 "nbformat_minor": 2
}
