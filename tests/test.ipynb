{
 "cells": [
  {
   "cell_type": "markdown",
   "metadata": {},
   "source": [
    "# Packages"
   ]
  },
  {
   "cell_type": "code",
   "execution_count": 1,
   "metadata": {},
   "outputs": [],
   "source": [
    "import requests"
   ]
  },
  {
   "cell_type": "markdown",
   "metadata": {},
   "source": [
    "# Setup"
   ]
  },
  {
   "cell_type": "code",
   "execution_count": 6,
   "metadata": {},
   "outputs": [],
   "source": [
    "API_KEY = {'X-API-Key': str(input('Enter API Key: '))}\n",
    "host = str(input('Enter Host: '))\n",
    "url = 'https://localhost:' + host + '/v1'"
   ]
  },
  {
   "cell_type": "code",
   "execution_count": 14,
   "metadata": {},
   "outputs": [],
   "source": [
    "url = 'http://localhost:9999/v1'"
   ]
  },
  {
   "cell_type": "code",
   "execution_count": 42,
   "metadata": {},
   "outputs": [],
   "source": [
    "ticker  = str(input('Enter Ticker: '))\n",
    "ticker = \"RTM48C\""
   ]
  },
  {
   "cell_type": "markdown",
   "metadata": {},
   "source": [
    "# API endpoint tests"
   ]
  },
  {
   "cell_type": "markdown",
   "metadata": {},
   "source": [
    "### **GET** /case"
   ]
  },
  {
   "cell_type": "code",
   "execution_count": 43,
   "metadata": {},
   "outputs": [
    {
     "name": "stdout",
     "output_type": "stream",
     "text": [
      "{'name': 'Options 3 Case', 'period': 1, 'tick': 17, 'ticks_per_period': 600, 'total_periods': 1, 'status': 'ACTIVE', 'is_enforce_trading_limits': True}\n"
     ]
    }
   ],
   "source": [
    "case = requests.get(url + '/case', headers=API_KEY)\n",
    "print(case.json())\n",
    "\n",
    "with open('responses/GETcase.json', 'w') as f:\n",
    "    f.write(case.text)"
   ]
  },
  {
   "cell_type": "markdown",
   "metadata": {},
   "source": [
    "### **GET** /trader"
   ]
  },
  {
   "cell_type": "code",
   "execution_count": 44,
   "metadata": {},
   "outputs": [
    {
     "name": "stdout",
     "output_type": "stream",
     "text": [
      "{'trader_id': 'felix', 'first_name': '123', 'last_name': '123', 'nlv': 0.0}\n"
     ]
    }
   ],
   "source": [
    "trader = requests.get(url + '/trader', headers=API_KEY)\n",
    "print(trader.json())\n",
    "\n",
    "with open('responses/GETtrader.json', 'w') as f:\n",
    "    f.write(trader.text)"
   ]
  },
  {
   "cell_type": "markdown",
   "metadata": {},
   "source": [
    "### **GET** /limits"
   ]
  },
  {
   "cell_type": "code",
   "execution_count": 45,
   "metadata": {},
   "outputs": [
    {
     "name": "stdout",
     "output_type": "stream",
     "text": [
      "[{'name': 'Limit-ETF', 'gross': 0.0, 'net': 0.0, 'gross_limit': 50000, 'net_limit': 50000, 'gross_fine': 1.0, 'net_fine': 1.0}, {'name': 'Limit-OPT', 'gross': 0.0, 'net': 0.0, 'gross_limit': 2500, 'net_limit': 1000, 'gross_fine': 1.0, 'net_fine': 1.0}]\n"
     ]
    }
   ],
   "source": [
    "limits = requests.get(url + '/limits', headers=API_KEY)\n",
    "print(limits.json())\n",
    "\n",
    "with open('responses/GETlimits.json', 'w') as f:\n",
    "    f.write(limits.text)"
   ]
  },
  {
   "cell_type": "markdown",
   "metadata": {},
   "source": [
    "### **GET** /news"
   ]
  },
  {
   "cell_type": "code",
   "execution_count": 46,
   "metadata": {},
   "outputs": [
    {
     "name": "stdout",
     "output_type": "stream",
     "text": [
      "[{'news_id': 1, 'period': 1, 'tick': 0, 'ticker': 'Week 1', 'headline': 'Risk free rate and current annualized volatility of RTM', 'body': 'The current risk free rate is 0%. RTM is an ETF that mimics one of the major indices in the simulated world and its current annualized realized volatility is 16%. This simulation consists of 20 trading days.'}]\n"
     ]
    }
   ],
   "source": [
    "since = 0 # only retieve news since this date (value must be a news Id)\n",
    "limit = 30 # limit the number of news to retrieve (default is 20)\n",
    "news_head = {'since':since, 'limit':limit}\n",
    "news = requests.get(url + '/news', headers=API_KEY, params=news_head)\n",
    "print(news.json())\n",
    "\n",
    "with open('responses/GETnews.json', 'w') as f:\n",
    "    f.write(news.text)"
   ]
  },
  {
   "cell_type": "markdown",
   "metadata": {},
   "source": [
    "### **GET** /assets"
   ]
  },
  {
   "cell_type": "code",
   "execution_count": 47,
   "metadata": {},
   "outputs": [
    {
     "name": "stdout",
     "output_type": "stream",
     "text": [
      "[]\n"
     ]
    }
   ],
   "source": [
    "assets = requests.get(url + '/assets', headers=API_KEY)\n",
    "print(assets.json())\n",
    "\n",
    "with open('responses/GETassets.json', 'w') as f:\n",
    "    f.write(assets.text)"
   ]
  },
  {
   "cell_type": "markdown",
   "metadata": {},
   "source": [
    "### **GET** /assets\n",
    "\n",
    "for specific stock"
   ]
  },
  {
   "cell_type": "code",
   "execution_count": 48,
   "metadata": {},
   "outputs": [
    {
     "name": "stdout",
     "output_type": "stream",
     "text": [
      "{'code': 'NOT_FOUND', 'message': 'Requested route GET:/v1/asset was not found.'}\n"
     ]
    }
   ],
   "source": [
    "asset_head = {'ticker': ticker} # ticker of the asset\n",
    "asset = requests.get(url + '/asset', headers=API_KEY, params=asset_head)\n",
    "print(asset.json())\n",
    "\n",
    "with open('responses/GETasset.json', 'w') as f:\n",
    "    f.write(asset.text)"
   ]
  },
  {
   "cell_type": "markdown",
   "metadata": {},
   "source": [
    "### **GET** /assets/history"
   ]
  },
  {
   "cell_type": "code",
   "execution_count": 49,
   "metadata": {},
   "outputs": [
    {
     "name": "stdout",
     "output_type": "stream",
     "text": [
      "{'code': 'BAD_REQUEST', 'message': 'Invalid asset RTM48C.'}\n"
     ]
    }
   ],
   "source": [
    "# assets_history_head = {'ticker': ticker, 'period': 20, 'limit': 30} # ticker as above, period as integer, limit of data points\n",
    "assets_history_head = {'ticker': ticker} # from latest to oldest for ticker\n",
    "assetshistory = requests.get(url + '/assets/history', headers=API_KEY, params=assets_history_head)\n",
    "print(assetshistory.json())\n",
    "\n",
    "with open('responses/GETassets_history.json', 'w') as f:\n",
    "    f.write(assetshistory.text)"
   ]
  },
  {
   "cell_type": "markdown",
   "metadata": {},
   "source": [
    "### **GET** /securities"
   ]
  },
  {
   "cell_type": "code",
   "execution_count": 50,
   "metadata": {},
   "outputs": [
    {
     "name": "stdout",
     "output_type": "stream",
     "text": [
      "[{'ticker': 'RTM', 'type': 'STOCK', 'size': 1, 'position': 0.0, 'vwap': 0.0, 'nlv': 0.0, 'last': 49.77, 'bid': 49.76, 'bid_size': 100000000.0, 'ask': 49.78, 'ask_size': 100000000.0, 'volume': 0.0, 'unrealized': 0.0, 'realized': 0.0, 'currency': '', 'total_volume': 0.0, 'limits': [{'name': 'Limit-ETF', 'units': 1.0}], 'interest_rate': 0.0, 'is_tradeable': True, 'is_shortable': True, 'start_period': 1, 'stop_period': 1, 'description': 'ETF', 'unit_multiplier': 1, 'display_unit': '', 'start_price': 50.0, 'min_price': 0.0, 'max_price': 100.0, 'quoted_decimals': 2, 'trading_fee': 0.0, 'limit_order_rebate': 0.0, 'min_trade_size': 0, 'max_trade_size': 10000, 'required_tickers': None, 'underlying_tickers': None, 'bond_coupon': 0.0, 'interest_payments_per_period': 0, 'base_security': '', 'fixing_ticker': None, 'api_orders_per_second': 1, 'execution_delay_ms': 0, 'interest_rate_ticker': None, 'otc_price_range': 0.0}, {'ticker': 'RTM48C', 'type': 'OPTION', 'size': 100, 'position': 0.0, 'vwap': 0.0, 'nlv': 0.0, 'last': 2.13, 'bid': 2.12, 'bid_size': 1000000.0, 'ask': 2.14, 'ask_size': 1000000.0, 'volume': 0.0, 'unrealized': 0.0, 'realized': 0.0, 'currency': '', 'total_volume': 0.0, 'limits': [{'name': 'Limit-OPT', 'units': 1.0}], 'interest_rate': 0.0, 'is_tradeable': True, 'is_shortable': True, 'start_period': 1, 'stop_period': 1, 'description': 'Options', 'unit_multiplier': 100, 'display_unit': '', 'start_price': 2.42, 'min_price': 0.0, 'max_price': 50.0, 'quoted_decimals': 2, 'trading_fee': 0.0, 'limit_order_rebate': 0.0, 'min_trade_size': 0, 'max_trade_size': 100, 'required_tickers': None, 'underlying_tickers': None, 'bond_coupon': 0.0, 'interest_payments_per_period': 0, 'base_security': '', 'fixing_ticker': None, 'api_orders_per_second': 1, 'execution_delay_ms': 0, 'interest_rate_ticker': None, 'otc_price_range': 0.0}, {'ticker': 'RTM48P', 'type': 'OPTION', 'size': 100, 'position': 0.0, 'vwap': 0.0, 'nlv': 0.0, 'last': 0.35, 'bid': 0.34, 'bid_size': 1000000.0, 'ask': 0.36, 'ask_size': 1000000.0, 'volume': 0.0, 'unrealized': 0.0, 'realized': 0.0, 'currency': '', 'total_volume': 0.0, 'limits': [{'name': 'Limit-OPT', 'units': 1.0}], 'interest_rate': 0.0, 'is_tradeable': True, 'is_shortable': True, 'start_period': 1, 'stop_period': 1, 'description': 'Options', 'unit_multiplier': 100, 'display_unit': '', 'start_price': 0.42, 'min_price': 0.0, 'max_price': 50.0, 'quoted_decimals': 2, 'trading_fee': 0.0, 'limit_order_rebate': 0.0, 'min_trade_size': 0, 'max_trade_size': 100, 'required_tickers': None, 'underlying_tickers': None, 'bond_coupon': 0.0, 'interest_payments_per_period': 0, 'base_security': '', 'fixing_ticker': None, 'api_orders_per_second': 1, 'execution_delay_ms': 0, 'interest_rate_ticker': None, 'otc_price_range': 0.0}, {'ticker': 'RTM49C', 'type': 'OPTION', 'size': 100, 'position': 0.0, 'vwap': 0.0, 'nlv': 0.0, 'last': 1.43, 'bid': 1.42, 'bid_size': 1000000.0, 'ask': 1.44, 'ask_size': 1000000.0, 'volume': 0.0, 'unrealized': 0.0, 'realized': 0.0, 'currency': '', 'total_volume': 0.0, 'limits': [{'name': 'Limit-OPT', 'units': 1.0}], 'interest_rate': 0.0, 'is_tradeable': True, 'is_shortable': True, 'start_period': 1, 'stop_period': 1, 'description': 'Options', 'unit_multiplier': 100, 'display_unit': '', 'start_price': 1.72, 'min_price': 0.0, 'max_price': 50.0, 'quoted_decimals': 2, 'trading_fee': 0.0, 'limit_order_rebate': 0.0, 'min_trade_size': 0, 'max_trade_size': 100, 'required_tickers': None, 'underlying_tickers': None, 'bond_coupon': 0.0, 'interest_payments_per_period': 0, 'base_security': '', 'fixing_ticker': None, 'api_orders_per_second': 1, 'execution_delay_ms': 0, 'interest_rate_ticker': None, 'otc_price_range': 0.0}, {'ticker': 'RTM49P', 'type': 'OPTION', 'size': 100, 'position': 0.0, 'vwap': 0.0, 'nlv': 0.0, 'last': 0.66, 'bid': 0.65, 'bid_size': 1000000.0, 'ask': 0.67, 'ask_size': 1000000.0, 'volume': 0.0, 'unrealized': 0.0, 'realized': 0.0, 'currency': '', 'total_volume': 0.0, 'limits': [{'name': 'Limit-OPT', 'units': 1.0}], 'interest_rate': 0.0, 'is_tradeable': True, 'is_shortable': True, 'start_period': 1, 'stop_period': 1, 'description': 'Options', 'unit_multiplier': 100, 'display_unit': '', 'start_price': 0.72, 'min_price': 0.0, 'max_price': 50.0, 'quoted_decimals': 2, 'trading_fee': 0.0, 'limit_order_rebate': 0.0, 'min_trade_size': 0, 'max_trade_size': 100, 'required_tickers': None, 'underlying_tickers': None, 'bond_coupon': 0.0, 'interest_payments_per_period': 0, 'base_security': '', 'fixing_ticker': None, 'api_orders_per_second': 1, 'execution_delay_ms': 0, 'interest_rate_ticker': None, 'otc_price_range': 0.0}, {'ticker': 'RTM50C', 'type': 'OPTION', 'size': 100, 'position': 0.0, 'vwap': 0.0, 'nlv': 0.0, 'last': 0.9, 'bid': 0.89, 'bid_size': 1000000.0, 'ask': 0.91, 'ask_size': 1000000.0, 'volume': 0.0, 'unrealized': 0.0, 'realized': 0.0, 'currency': '', 'total_volume': 0.0, 'limits': [{'name': 'Limit-OPT', 'units': 1.0}], 'interest_rate': 0.0, 'is_tradeable': True, 'is_shortable': True, 'start_period': 1, 'stop_period': 1, 'description': 'Options', 'unit_multiplier': 100, 'display_unit': '', 'start_price': 1.16, 'min_price': 0.0, 'max_price': 50.0, 'quoted_decimals': 2, 'trading_fee': 0.0, 'limit_order_rebate': 0.0, 'min_trade_size': 0, 'max_trade_size': 100, 'required_tickers': None, 'underlying_tickers': None, 'bond_coupon': 0.0, 'interest_payments_per_period': 0, 'base_security': '', 'fixing_ticker': None, 'api_orders_per_second': 1, 'execution_delay_ms': 0, 'interest_rate_ticker': None, 'otc_price_range': 0.0}, {'ticker': 'RTM50P', 'type': 'OPTION', 'size': 100, 'position': 0.0, 'vwap': 0.0, 'nlv': 0.0, 'last': 1.12, 'bid': 1.11, 'bid_size': 1000000.0, 'ask': 1.13, 'ask_size': 1000000.0, 'volume': 0.0, 'unrealized': 0.0, 'realized': 0.0, 'currency': '', 'total_volume': 0.0, 'limits': [{'name': 'Limit-OPT', 'units': 1.0}], 'interest_rate': 0.0, 'is_tradeable': True, 'is_shortable': True, 'start_period': 1, 'stop_period': 1, 'description': 'Options', 'unit_multiplier': 100, 'display_unit': '', 'start_price': 1.16, 'min_price': 0.0, 'max_price': 50.0, 'quoted_decimals': 2, 'trading_fee': 0.0, 'limit_order_rebate': 0.0, 'min_trade_size': 0, 'max_trade_size': 100, 'required_tickers': None, 'underlying_tickers': None, 'bond_coupon': 0.0, 'interest_payments_per_period': 0, 'base_security': '', 'fixing_ticker': None, 'api_orders_per_second': 1, 'execution_delay_ms': 0, 'interest_rate_ticker': None, 'otc_price_range': 0.0}, {'ticker': 'RTM51C', 'type': 'OPTION', 'size': 100, 'position': 0.0, 'vwap': 0.0, 'nlv': 0.0, 'last': 0.52, 'bid': 0.51, 'bid_size': 1000000.0, 'ask': 0.53, 'ask_size': 1000000.0, 'volume': 0.0, 'unrealized': 0.0, 'realized': 0.0, 'currency': '', 'total_volume': 0.0, 'limits': [{'name': 'Limit-OPT', 'units': 1.0}], 'interest_rate': 0.0, 'is_tradeable': True, 'is_shortable': True, 'start_period': 1, 'stop_period': 1, 'description': 'Options', 'unit_multiplier': 100, 'display_unit': '', 'start_price': 0.74, 'min_price': 0.0, 'max_price': 50.0, 'quoted_decimals': 2, 'trading_fee': 0.0, 'limit_order_rebate': 0.0, 'min_trade_size': 0, 'max_trade_size': 100, 'required_tickers': None, 'underlying_tickers': None, 'bond_coupon': 0.0, 'interest_payments_per_period': 0, 'base_security': '', 'fixing_ticker': None, 'api_orders_per_second': 1, 'execution_delay_ms': 0, 'interest_rate_ticker': None, 'otc_price_range': 0.0}, {'ticker': 'RTM51P', 'type': 'OPTION', 'size': 100, 'position': 0.0, 'vwap': 0.0, 'nlv': 0.0, 'last': 1.75, 'bid': 1.74, 'bid_size': 1000000.0, 'ask': 1.76, 'ask_size': 1000000.0, 'volume': 0.0, 'unrealized': 0.0, 'realized': 0.0, 'currency': '', 'total_volume': 0.0, 'limits': [{'name': 'Limit-OPT', 'units': 1.0}], 'interest_rate': 0.0, 'is_tradeable': True, 'is_shortable': True, 'start_period': 1, 'stop_period': 1, 'description': 'Options', 'unit_multiplier': 100, 'display_unit': '', 'start_price': 1.74, 'min_price': 0.0, 'max_price': 50.0, 'quoted_decimals': 2, 'trading_fee': 0.0, 'limit_order_rebate': 0.0, 'min_trade_size': 0, 'max_trade_size': 100, 'required_tickers': None, 'underlying_tickers': None, 'bond_coupon': 0.0, 'interest_payments_per_period': 0, 'base_security': '', 'fixing_ticker': None, 'api_orders_per_second': 1, 'execution_delay_ms': 0, 'interest_rate_ticker': None, 'otc_price_range': 0.0}, {'ticker': 'RTM52C', 'type': 'OPTION', 'size': 100, 'position': 0.0, 'vwap': 0.0, 'nlv': 0.0, 'last': 0.28, 'bid': 0.27, 'bid_size': 1000000.0, 'ask': 0.29, 'ask_size': 1000000.0, 'volume': 0.0, 'unrealized': 0.0, 'realized': 0.0, 'currency': '', 'total_volume': 0.0, 'limits': [{'name': 'Limit-OPT', 'units': 1.0}], 'interest_rate': 0.0, 'is_tradeable': True, 'is_shortable': True, 'start_period': 1, 'stop_period': 1, 'description': 'Options', 'unit_multiplier': 100, 'display_unit': '', 'start_price': 0.45, 'min_price': 0.0, 'max_price': 50.0, 'quoted_decimals': 2, 'trading_fee': 0.0, 'limit_order_rebate': 0.0, 'min_trade_size': 0, 'max_trade_size': 100, 'required_tickers': None, 'underlying_tickers': None, 'bond_coupon': 0.0, 'interest_payments_per_period': 0, 'base_security': '', 'fixing_ticker': None, 'api_orders_per_second': 1, 'execution_delay_ms': 0, 'interest_rate_ticker': None, 'otc_price_range': 0.0}, {'ticker': 'RTM52P', 'type': 'OPTION', 'size': 100, 'position': 0.0, 'vwap': 0.0, 'nlv': 0.0, 'last': 2.51, 'bid': 2.5, 'bid_size': 1000000.0, 'ask': 2.52, 'ask_size': 1000000.0, 'volume': 0.0, 'unrealized': 0.0, 'realized': 0.0, 'currency': '', 'total_volume': 0.0, 'limits': [{'name': 'Limit-OPT', 'units': 1.0}], 'interest_rate': 0.0, 'is_tradeable': True, 'is_shortable': True, 'start_period': 1, 'stop_period': 1, 'description': 'Options', 'unit_multiplier': 100, 'display_unit': '', 'start_price': 2.45, 'min_price': 0.0, 'max_price': 50.0, 'quoted_decimals': 2, 'trading_fee': 0.0, 'limit_order_rebate': 0.0, 'min_trade_size': 0, 'max_trade_size': 100, 'required_tickers': None, 'underlying_tickers': None, 'bond_coupon': 0.0, 'interest_payments_per_period': 0, 'base_security': '', 'fixing_ticker': None, 'api_orders_per_second': 1, 'execution_delay_ms': 0, 'interest_rate_ticker': None, 'otc_price_range': 0.0}]\n"
     ]
    }
   ],
   "source": [
    "# securities_head = {'ticker': ticker} # ticker of the asset\n",
    "securities = requests.get(url + '/securities', headers=API_KEY)\n",
    "print(securities.json())\n",
    "\n",
    "with open('responses/GETsecurities.json', 'w') as f:\n",
    "    f.write(securities.text)"
   ]
  },
  {
   "cell_type": "markdown",
   "metadata": {},
   "source": [
    "### **GET** /securities/book"
   ]
  },
  {
   "cell_type": "code",
   "execution_count": 51,
   "metadata": {},
   "outputs": [],
   "source": [
    "# securities_book_head = {'ticker': ticker, 'limit': 30} # ticker of the asset with limit of data points for bid and ask sides\n",
    "securities_book_head = {'ticker': ticker, 'limit': 30}\n",
    "securitiesbook = requests.get(url + '/securities/book', headers=API_KEY, params=securities_book_head)\n",
    "\n",
    "with open('responses/GETsecurities_book.json', 'w') as f:\n",
    "    f.write(securitiesbook.text)"
   ]
  },
  {
   "cell_type": "markdown",
   "metadata": {},
   "source": [
    "### **GET** /securities/history"
   ]
  },
  {
   "cell_type": "code",
   "execution_count": 52,
   "metadata": {},
   "outputs": [
    {
     "name": "stdout",
     "output_type": "stream",
     "text": [
      "[{'tick': 22, 'open': 2.02, 'high': 2.02, 'low': 1.99, 'close': 1.99}, {'tick': 21, 'open': 2.13, 'high': 2.13, 'low': 2.02, 'close': 2.02}, {'tick': 20, 'open': 2.2, 'high': 2.2, 'low': 2.13, 'close': 2.13}, {'tick': 19, 'open': 2.08, 'high': 2.2, 'low': 2.08, 'close': 2.2}, {'tick': 18, 'open': 2.05, 'high': 2.08, 'low': 2.05, 'close': 2.08}, {'tick': 17, 'open': 2.14, 'high': 2.14, 'low': 2.05, 'close': 2.05}, {'tick': 16, 'open': 2.15, 'high': 2.15, 'low': 2.14, 'close': 2.14}, {'tick': 15, 'open': 1.92, 'high': 2.15, 'low': 1.92, 'close': 2.15}, {'tick': 14, 'open': 1.95, 'high': 1.95, 'low': 1.92, 'close': 1.92}, {'tick': 13, 'open': 1.97, 'high': 1.97, 'low': 1.95, 'close': 1.95}, {'tick': 12, 'open': 2.02, 'high': 2.02, 'low': 1.97, 'close': 1.97}, {'tick': 11, 'open': 2.15, 'high': 2.15, 'low': 2.02, 'close': 2.02}, {'tick': 10, 'open': 2.15, 'high': 2.15, 'low': 2.15, 'close': 2.15}, {'tick': 9, 'open': 2.27, 'high': 2.27, 'low': 2.15, 'close': 2.15}, {'tick': 8, 'open': 2.2, 'high': 2.27, 'low': 2.2, 'close': 2.27}, {'tick': 7, 'open': 2.26, 'high': 2.26, 'low': 2.2, 'close': 2.2}, {'tick': 6, 'open': 2.31, 'high': 2.31, 'low': 2.26, 'close': 2.26}, {'tick': 5, 'open': 2.33, 'high': 2.33, 'low': 2.31, 'close': 2.31}, {'tick': 4, 'open': 2.44, 'high': 2.44, 'low': 2.33, 'close': 2.33}, {'tick': 3, 'open': 2.39, 'high': 2.44, 'low': 2.39, 'close': 2.44}, {'tick': 2, 'open': 2.42, 'high': 2.42, 'low': 2.39, 'close': 2.39}, {'tick': 1, 'open': 2.42, 'high': 2.42, 'low': 2.42, 'close': 2.42}]\n"
     ]
    }
   ],
   "source": [
    "# securities_history_head = {'ticker': ticker, 'period': 20, 'limit': 30} # ticker as above, period as integer (default current period), limit of data points (all data points if not specified)\n",
    "securities_history_head = {'ticker': ticker} # from latest to oldest for ticker\n",
    "securitieshistory = requests.get(url + '/securities/history', headers=API_KEY, params=securities_history_head)\n",
    "print(securitieshistory.json())\n",
    "\n",
    "with open('responses/GETsecurities_history.json', 'w') as f:\n",
    "    f.write(securitieshistory.text)"
   ]
  },
  {
   "cell_type": "markdown",
   "metadata": {},
   "source": [
    "### **GET** /securities/tas\n",
    "\n",
    "*Gets time & sales history for a security. Data is anonymized. There are two modes of retrieval for this endpoint.\n",
    "If after is specified, then only data with an id value greater than after will be returned. This allows only incremental data to be retrieved by storing the last id value returned. Setting after=0 will return all time & sales data.\n",
    "Alternatively, specifying period & limit will fetch data from the corresponding period and tick window. For example, setting limit=0 returns only data from the current period and current tick.*"
   ]
  },
  {
   "cell_type": "code",
   "execution_count": 53,
   "metadata": {},
   "outputs": [
    {
     "name": "stdout",
     "output_type": "stream",
     "text": [
      "[]\n"
     ]
    }
   ],
   "source": [
    "# securities_tas_head = {'ticker': ticker, 'after': 5} # all orders processed after 5\n",
    "# securities_tas_head = {'ticker': ticker, 'period': 15, 'limit': 10} # all orders processed before 15 (extract 10)\n",
    "securities_tas_head = {'ticker': ticker} # all orders processed before current period\n",
    "securitiestas = requests.get(url + '/securities/tas', headers=API_KEY, params=securities_tas_head)\n",
    "print(securitiestas.json())\n",
    "\n",
    "with open('responses/GETsecurities_tas.json', 'w') as f:\n",
    "    f.write(securitiestas.text)"
   ]
  },
  {
   "cell_type": "markdown",
   "metadata": {},
   "source": [
    "### **GET** /orders"
   ]
  },
  {
   "cell_type": "code",
   "execution_count": 54,
   "metadata": {},
   "outputs": [
    {
     "name": "stdout",
     "output_type": "stream",
     "text": [
      "[]\n"
     ]
    }
   ],
   "source": [
    "orders = requests.get(url + '/orders', headers=API_KEY)\n",
    "print(orders.json())\n",
    "\n",
    "with open('responses/GETorders.json', 'w') as f:\n",
    "    f.write(orders.text)"
   ]
  },
  {
   "cell_type": "markdown",
   "metadata": {},
   "source": [
    "### **POST** /orders"
   ]
  },
  {
   "cell_type": "code",
   "execution_count": 55,
   "metadata": {},
   "outputs": [
    {
     "name": "stdout",
     "output_type": "stream",
     "text": [
      "{'code': 'FORBIDDEN', 'message': 'API order submission has been disabled for this simulation.'}\n"
     ]
    }
   ],
   "source": [
    "# orders_head = {'ticker': ticker, 'type':'LIMIT', 'quantity': 1, 'action': 'BUY', 'price': 100} # place limit \"BUY\" order for ticker @ price (100) for quantity (1)\n",
    "# orders_head = {'ticker': ticker, 'type':'MARKET', 'quantity': 1, 'action': 'SELL', 'dry_run': 0} # place market \"SELL\" order for ticker for quantity (1) without dry_run (no simulation)\n",
    "orders_head = {'ticker': ticker, 'type':'MARKET', 'quantity': 1, 'action': 'SELL'} # place market \"SELL\" order for ticker for quantity (1)\n",
    "orders = requests.post(url + '/orders', headers=API_KEY, params=orders_head)\n",
    "print(orders.json())\n",
    "\n",
    "with open('responses/POSTorders.json', 'w') as f:\n",
    "    f.write(orders.text)"
   ]
  },
  {
   "cell_type": "markdown",
   "metadata": {},
   "source": [
    "### **GET** /orders/{id}"
   ]
  },
  {
   "cell_type": "code",
   "execution_count": null,
   "metadata": {},
   "outputs": [],
   "source": []
  },
  {
   "cell_type": "markdown",
   "metadata": {},
   "source": [
    "### **DELETE** /orders/{id}"
   ]
  },
  {
   "cell_type": "code",
   "execution_count": null,
   "metadata": {},
   "outputs": [],
   "source": []
  },
  {
   "cell_type": "markdown",
   "metadata": {},
   "source": [
    "### **GET** /tenders"
   ]
  },
  {
   "cell_type": "code",
   "execution_count": null,
   "metadata": {},
   "outputs": [],
   "source": []
  },
  {
   "cell_type": "markdown",
   "metadata": {},
   "source": [
    "### **DELETE** /tenders/{id}"
   ]
  },
  {
   "cell_type": "code",
   "execution_count": null,
   "metadata": {},
   "outputs": [],
   "source": []
  },
  {
   "cell_type": "markdown",
   "metadata": {},
   "source": [
    "### **GET** /leases"
   ]
  },
  {
   "cell_type": "code",
   "execution_count": null,
   "metadata": {},
   "outputs": [],
   "source": []
  },
  {
   "cell_type": "markdown",
   "metadata": {},
   "source": [
    "### **POST** /leases"
   ]
  },
  {
   "cell_type": "code",
   "execution_count": null,
   "metadata": {},
   "outputs": [],
   "source": []
  },
  {
   "cell_type": "markdown",
   "metadata": {},
   "source": [
    "### **GET** /leases/{id}"
   ]
  },
  {
   "cell_type": "code",
   "execution_count": null,
   "metadata": {},
   "outputs": [],
   "source": []
  },
  {
   "cell_type": "markdown",
   "metadata": {},
   "source": [
    "### **POST** /leases/{id}"
   ]
  },
  {
   "cell_type": "code",
   "execution_count": null,
   "metadata": {},
   "outputs": [],
   "source": []
  },
  {
   "cell_type": "code",
   "execution_count": null,
   "metadata": {},
   "outputs": [],
   "source": []
  }
 ],
 "metadata": {
  "kernelspec": {
   "display_name": "Python 3.10.8 64-bit",
   "language": "python",
   "name": "python3"
  },
  "language_info": {
   "codemirror_mode": {
    "name": "ipython",
    "version": 3
   },
   "file_extension": ".py",
   "mimetype": "text/x-python",
   "name": "python",
   "nbconvert_exporter": "python",
   "pygments_lexer": "ipython3",
   "version": "3.10.8"
  },
  "orig_nbformat": 4,
  "vscode": {
   "interpreter": {
    "hash": "67e0cbc25fa4f5baaacba1240f401bc655b640f8e15cfc935dfee2e63491bdf4"
   }
  }
 },
 "nbformat": 4,
 "nbformat_minor": 2
}
